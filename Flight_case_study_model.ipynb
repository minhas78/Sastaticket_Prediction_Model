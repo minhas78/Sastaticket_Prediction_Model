{
 "cells": [
  {
   "cell_type": "markdown",
   "metadata": {},
   "source": [
    "# Data Science Case Study Model"
   ]
  },
  {
   "cell_type": "markdown",
   "metadata": {},
   "source": [
    "## Flight Price Prediction Model"
   ]
  },
  {
   "cell_type": "markdown",
   "metadata": {},
   "source": [
    "**Instructions**\n",
    "\n",
    "- Ahmed is a customer of Sastaticket.pk. He is planning to fly from Karachi to Islamabad for his\n",
    "brother’s wedding and is currently in the process of choosing tickets. Ahmed has to go to Islamabad\n",
    "but Ahmed also wants to save some money in the process, so he chooses to wait instead of buy\n",
    "now, simply because ticket prices are just too high.\n",
    "\n",
    "- Is this the right decision? Won’t ticket prices increase in the future? Perhaps there is a sweet-spot\n",
    "Ahmed is hoping to find and maybe he just might find it.\n",
    "\n",
    "- This is the problem that you will be tackling in this competition. Can you predict future prices\n",
    "accurately to such a degree that you can now tell Ahmed - with confidence - that he has made the\n",
    "wrong decision.\n",
    "\n",
    "- Your task boils down to generating optimal predictions for flight prices of multiple airlines. If\n",
    "successful, your model will contribute greatly to Sastaticket’s rich and diverse set of operating\n",
    "algorithms."
   ]
  },
  {
   "cell_type": "markdown",
   "metadata": {},
   "source": [
    "**Summary**\n",
    "1. Find Cheapest and expenses flights at specific time.\n",
    "2. You have to go through EDA(Exploratory Data Analysis) Process.\n",
    "3. Apply an appropriate Machine Learning Model.\n",
    "4. Find a sweet spot for cheap ticket"
   ]
  },
  {
   "cell_type": "markdown",
   "metadata": {},
   "source": [
    "### 1.  Doing Exploratory Data Analysis"
   ]
  },
  {
   "cell_type": "markdown",
   "metadata": {},
   "source": [
    "#### Step 1. Import the Libraries"
   ]
  },
  {
   "cell_type": "code",
   "execution_count": 1,
   "metadata": {},
   "outputs": [],
   "source": [
    "# Importing Libraries\n",
    "import pandas as pd\n",
    "import seaborn as sns\n",
    "import numpy as np\n",
    "import matplotlib.pyplot as plt"
   ]
  },
  {
   "cell_type": "markdown",
   "metadata": {},
   "source": [
    "#### Step 2. Load the dataset"
   ]
  },
  {
   "cell_type": "code",
   "execution_count": 2,
   "metadata": {},
   "outputs": [],
   "source": [
    "# Loading Data_Sets into Data_Frames\n",
    "df= pd.read_csv('X_train_data.csv')\n"
   ]
  },
  {
   "cell_type": "code",
   "execution_count": 3,
   "metadata": {},
   "outputs": [
    {
     "data": {
      "text/plain": [
       "{'encoding': 'ascii', 'confidence': 1.0, 'language': ''}"
      ]
     },
     "execution_count": 3,
     "metadata": {},
     "output_type": "execute_result"
    }
   ],
   "source": [
    "import chardet\n",
    "with open('X_train_data.csv', 'rb') as rawdata:\n",
    "    result = chardet.detect(rawdata.read(1000))\n",
    "result"
   ]
  },
  {
   "cell_type": "code",
   "execution_count": 4,
   "metadata": {},
   "outputs": [],
   "source": [
    "df1= pd.read_csv('X_test_data.csv')"
   ]
  },
  {
   "cell_type": "code",
   "execution_count": 5,
   "metadata": {},
   "outputs": [
    {
     "data": {
      "text/plain": [
       "{'encoding': 'ascii', 'confidence': 1.0, 'language': ''}"
      ]
     },
     "execution_count": 5,
     "metadata": {},
     "output_type": "execute_result"
    }
   ],
   "source": [
    "import chardet\n",
    "with open('X_test_data.csv', 'rb') as rawdata:\n",
    "    result = chardet.detect(rawdata.read(1000))\n",
    "result"
   ]
  },
  {
   "cell_type": "code",
   "execution_count": 6,
   "metadata": {},
   "outputs": [
    {
     "name": "stdout",
     "output_type": "stream",
     "text": [
      "<class 'pandas.core.frame.DataFrame'>\n",
      "RangeIndex: 5000 entries, 0 to 4999\n",
      "Data columns (total 14 columns):\n",
      " #   Column        Non-Null Count  Dtype  \n",
      "---  ------        --------------  -----  \n",
      " 0   Unnamed: 0    5000 non-null   int64  \n",
      " 1   Unnamed: 0.1  5000 non-null   int64  \n",
      " 2   f1            5000 non-null   object \n",
      " 3   f2            5000 non-null   object \n",
      " 4   f3            5000 non-null   object \n",
      " 5   f4            5000 non-null   object \n",
      " 6   f5            5000 non-null   object \n",
      " 7   f6            5000 non-null   object \n",
      " 8   f7            5000 non-null   bool   \n",
      " 9   f8            5000 non-null   float64\n",
      " 10  f9            5000 non-null   int64  \n",
      " 11  f10           5000 non-null   object \n",
      " 12  Unnamed: 0.2  5000 non-null   int64  \n",
      " 13  target        5000 non-null   float64\n",
      "dtypes: bool(1), float64(2), int64(4), object(7)\n",
      "memory usage: 512.8+ KB\n"
     ]
    }
   ],
   "source": [
    "df.info()"
   ]
  },
  {
   "cell_type": "code",
   "execution_count": 7,
   "metadata": {},
   "outputs": [
    {
     "data": {
      "text/html": [
       "<div>\n",
       "<style scoped>\n",
       "    .dataframe tbody tr th:only-of-type {\n",
       "        vertical-align: middle;\n",
       "    }\n",
       "\n",
       "    .dataframe tbody tr th {\n",
       "        vertical-align: top;\n",
       "    }\n",
       "\n",
       "    .dataframe thead th {\n",
       "        text-align: right;\n",
       "    }\n",
       "</style>\n",
       "<table border=\"1\" class=\"dataframe\">\n",
       "  <thead>\n",
       "    <tr style=\"text-align: right;\">\n",
       "      <th></th>\n",
       "      <th>Unnamed: 0</th>\n",
       "      <th>Unnamed: 0.1</th>\n",
       "      <th>f8</th>\n",
       "      <th>f9</th>\n",
       "      <th>Unnamed: 0.2</th>\n",
       "      <th>target</th>\n",
       "    </tr>\n",
       "  </thead>\n",
       "  <tbody>\n",
       "    <tr>\n",
       "      <th>count</th>\n",
       "      <td>5.000000e+03</td>\n",
       "      <td>5.000000e+03</td>\n",
       "      <td>5000.000000</td>\n",
       "      <td>5000.000000</td>\n",
       "      <td>5.000000e+03</td>\n",
       "      <td>5000.000000</td>\n",
       "    </tr>\n",
       "    <tr>\n",
       "      <th>mean</th>\n",
       "      <td>1.086293e+07</td>\n",
       "      <td>1.086293e+07</td>\n",
       "      <td>22.494400</td>\n",
       "      <td>0.944600</td>\n",
       "      <td>1.086293e+07</td>\n",
       "      <td>10104.351800</td>\n",
       "    </tr>\n",
       "    <tr>\n",
       "      <th>std</th>\n",
       "      <td>6.275456e+06</td>\n",
       "      <td>6.275456e+06</td>\n",
       "      <td>8.887101</td>\n",
       "      <td>0.607951</td>\n",
       "      <td>6.275456e+06</td>\n",
       "      <td>3359.936118</td>\n",
       "    </tr>\n",
       "    <tr>\n",
       "      <th>min</th>\n",
       "      <td>2.499000e+03</td>\n",
       "      <td>2.499000e+03</td>\n",
       "      <td>0.000000</td>\n",
       "      <td>0.000000</td>\n",
       "      <td>2.499000e+03</td>\n",
       "      <td>4990.000000</td>\n",
       "    </tr>\n",
       "    <tr>\n",
       "      <th>25%</th>\n",
       "      <td>5.417290e+06</td>\n",
       "      <td>5.417290e+06</td>\n",
       "      <td>20.000000</td>\n",
       "      <td>1.000000</td>\n",
       "      <td>5.417290e+06</td>\n",
       "      <td>7796.000000</td>\n",
       "    </tr>\n",
       "    <tr>\n",
       "      <th>50%</th>\n",
       "      <td>1.093803e+07</td>\n",
       "      <td>1.093803e+07</td>\n",
       "      <td>20.000000</td>\n",
       "      <td>1.000000</td>\n",
       "      <td>1.093803e+07</td>\n",
       "      <td>9403.000000</td>\n",
       "    </tr>\n",
       "    <tr>\n",
       "      <th>75%</th>\n",
       "      <td>1.621582e+07</td>\n",
       "      <td>1.621582e+07</td>\n",
       "      <td>32.000000</td>\n",
       "      <td>1.000000</td>\n",
       "      <td>1.621582e+07</td>\n",
       "      <td>11245.000000</td>\n",
       "    </tr>\n",
       "    <tr>\n",
       "      <th>max</th>\n",
       "      <td>2.177443e+07</td>\n",
       "      <td>2.177443e+07</td>\n",
       "      <td>45.000000</td>\n",
       "      <td>2.000000</td>\n",
       "      <td>2.177443e+07</td>\n",
       "      <td>33720.000000</td>\n",
       "    </tr>\n",
       "  </tbody>\n",
       "</table>\n",
       "</div>"
      ],
      "text/plain": [
       "         Unnamed: 0  Unnamed: 0.1           f8           f9  Unnamed: 0.2  \\\n",
       "count  5.000000e+03  5.000000e+03  5000.000000  5000.000000  5.000000e+03   \n",
       "mean   1.086293e+07  1.086293e+07    22.494400     0.944600  1.086293e+07   \n",
       "std    6.275456e+06  6.275456e+06     8.887101     0.607951  6.275456e+06   \n",
       "min    2.499000e+03  2.499000e+03     0.000000     0.000000  2.499000e+03   \n",
       "25%    5.417290e+06  5.417290e+06    20.000000     1.000000  5.417290e+06   \n",
       "50%    1.093803e+07  1.093803e+07    20.000000     1.000000  1.093803e+07   \n",
       "75%    1.621582e+07  1.621582e+07    32.000000     1.000000  1.621582e+07   \n",
       "max    2.177443e+07  2.177443e+07    45.000000     2.000000  2.177443e+07   \n",
       "\n",
       "             target  \n",
       "count   5000.000000  \n",
       "mean   10104.351800  \n",
       "std     3359.936118  \n",
       "min     4990.000000  \n",
       "25%     7796.000000  \n",
       "50%     9403.000000  \n",
       "75%    11245.000000  \n",
       "max    33720.000000  "
      ]
     },
     "execution_count": 7,
     "metadata": {},
     "output_type": "execute_result"
    }
   ],
   "source": [
    "df.describe()"
   ]
  },
  {
   "cell_type": "code",
   "execution_count": 8,
   "metadata": {},
   "outputs": [
    {
     "data": {
      "text/html": [
       "<div>\n",
       "<style scoped>\n",
       "    .dataframe tbody tr th:only-of-type {\n",
       "        vertical-align: middle;\n",
       "    }\n",
       "\n",
       "    .dataframe tbody tr th {\n",
       "        vertical-align: top;\n",
       "    }\n",
       "\n",
       "    .dataframe thead th {\n",
       "        text-align: right;\n",
       "    }\n",
       "</style>\n",
       "<table border=\"1\" class=\"dataframe\">\n",
       "  <thead>\n",
       "    <tr style=\"text-align: right;\">\n",
       "      <th></th>\n",
       "      <th>f8</th>\n",
       "      <th>f9</th>\n",
       "    </tr>\n",
       "  </thead>\n",
       "  <tbody>\n",
       "    <tr>\n",
       "      <th>count</th>\n",
       "      <td>5000.000000</td>\n",
       "      <td>5000.000000</td>\n",
       "    </tr>\n",
       "    <tr>\n",
       "      <th>mean</th>\n",
       "      <td>20.835000</td>\n",
       "      <td>0.975800</td>\n",
       "    </tr>\n",
       "    <tr>\n",
       "      <th>std</th>\n",
       "      <td>6.636007</td>\n",
       "      <td>0.533358</td>\n",
       "    </tr>\n",
       "    <tr>\n",
       "      <th>min</th>\n",
       "      <td>15.000000</td>\n",
       "      <td>0.000000</td>\n",
       "    </tr>\n",
       "    <tr>\n",
       "      <th>25%</th>\n",
       "      <td>20.000000</td>\n",
       "      <td>1.000000</td>\n",
       "    </tr>\n",
       "    <tr>\n",
       "      <th>50%</th>\n",
       "      <td>20.000000</td>\n",
       "      <td>1.000000</td>\n",
       "    </tr>\n",
       "    <tr>\n",
       "      <th>75%</th>\n",
       "      <td>20.000000</td>\n",
       "      <td>1.000000</td>\n",
       "    </tr>\n",
       "    <tr>\n",
       "      <th>max</th>\n",
       "      <td>40.000000</td>\n",
       "      <td>2.000000</td>\n",
       "    </tr>\n",
       "  </tbody>\n",
       "</table>\n",
       "</div>"
      ],
      "text/plain": [
       "                f8           f9\n",
       "count  5000.000000  5000.000000\n",
       "mean     20.835000     0.975800\n",
       "std       6.636007     0.533358\n",
       "min      15.000000     0.000000\n",
       "25%      20.000000     1.000000\n",
       "50%      20.000000     1.000000\n",
       "75%      20.000000     1.000000\n",
       "max      40.000000     2.000000"
      ]
     },
     "execution_count": 8,
     "metadata": {},
     "output_type": "execute_result"
    }
   ],
   "source": [
    "df1.describe()"
   ]
  },
  {
   "cell_type": "markdown",
   "metadata": {},
   "source": [
    "- Checking the head of the dataset"
   ]
  },
  {
   "cell_type": "code",
   "execution_count": 9,
   "metadata": {},
   "outputs": [
    {
     "data": {
      "text/html": [
       "<div>\n",
       "<style scoped>\n",
       "    .dataframe tbody tr th:only-of-type {\n",
       "        vertical-align: middle;\n",
       "    }\n",
       "\n",
       "    .dataframe tbody tr th {\n",
       "        vertical-align: top;\n",
       "    }\n",
       "\n",
       "    .dataframe thead th {\n",
       "        text-align: right;\n",
       "    }\n",
       "</style>\n",
       "<table border=\"1\" class=\"dataframe\">\n",
       "  <thead>\n",
       "    <tr style=\"text-align: right;\">\n",
       "      <th></th>\n",
       "      <th>Unnamed: 0</th>\n",
       "      <th>Unnamed: 0.1</th>\n",
       "      <th>f1</th>\n",
       "      <th>f2</th>\n",
       "      <th>f3</th>\n",
       "      <th>f4</th>\n",
       "      <th>f5</th>\n",
       "      <th>f6</th>\n",
       "      <th>f7</th>\n",
       "      <th>f8</th>\n",
       "      <th>f9</th>\n",
       "      <th>f10</th>\n",
       "      <th>Unnamed: 0.2</th>\n",
       "      <th>target</th>\n",
       "    </tr>\n",
       "  </thead>\n",
       "  <tbody>\n",
       "    <tr>\n",
       "      <th>0</th>\n",
       "      <td>276919</td>\n",
       "      <td>276919</td>\n",
       "      <td>2021-01-08 12:43:27.828728+00:00</td>\n",
       "      <td>x</td>\n",
       "      <td>y</td>\n",
       "      <td>2021-01-23 05:00:00+00:00</td>\n",
       "      <td>2021-01-23 07:00:00+00:00</td>\n",
       "      <td>gamma</td>\n",
       "      <td>True</td>\n",
       "      <td>0.0</td>\n",
       "      <td>0</td>\n",
       "      <td>c-2</td>\n",
       "      <td>276919</td>\n",
       "      <td>7400.0</td>\n",
       "    </tr>\n",
       "    <tr>\n",
       "      <th>1</th>\n",
       "      <td>12092463</td>\n",
       "      <td>12092463</td>\n",
       "      <td>2021-07-01 04:45:11.397541+00:00</td>\n",
       "      <td>x</td>\n",
       "      <td>y</td>\n",
       "      <td>2021-07-01 13:00:00+00:00</td>\n",
       "      <td>2021-07-01 15:00:00+00:00</td>\n",
       "      <td>alpha</td>\n",
       "      <td>True</td>\n",
       "      <td>35.0</td>\n",
       "      <td>1</td>\n",
       "      <td>a-9</td>\n",
       "      <td>12092463</td>\n",
       "      <td>15377.0</td>\n",
       "    </tr>\n",
       "    <tr>\n",
       "      <th>2</th>\n",
       "      <td>11061788</td>\n",
       "      <td>11061788</td>\n",
       "      <td>2021-06-24 11:28:47.565115+00:00</td>\n",
       "      <td>x</td>\n",
       "      <td>y</td>\n",
       "      <td>2021-07-29 14:00:00+00:00</td>\n",
       "      <td>2021-07-29 16:00:00+00:00</td>\n",
       "      <td>gamma</td>\n",
       "      <td>True</td>\n",
       "      <td>20.0</td>\n",
       "      <td>1</td>\n",
       "      <td>c-4</td>\n",
       "      <td>11061788</td>\n",
       "      <td>6900.0</td>\n",
       "    </tr>\n",
       "    <tr>\n",
       "      <th>3</th>\n",
       "      <td>8799808</td>\n",
       "      <td>8799808</td>\n",
       "      <td>2021-06-05 11:09:48.655927+00:00</td>\n",
       "      <td>x</td>\n",
       "      <td>y</td>\n",
       "      <td>2021-06-09 16:00:00+00:00</td>\n",
       "      <td>2021-06-09 18:00:00+00:00</td>\n",
       "      <td>alpha</td>\n",
       "      <td>True</td>\n",
       "      <td>15.0</td>\n",
       "      <td>1</td>\n",
       "      <td>a-23</td>\n",
       "      <td>8799808</td>\n",
       "      <td>9707.0</td>\n",
       "    </tr>\n",
       "    <tr>\n",
       "      <th>4</th>\n",
       "      <td>16391150</td>\n",
       "      <td>16391150</td>\n",
       "      <td>2021-07-29 09:53:51.065306+00:00</td>\n",
       "      <td>x</td>\n",
       "      <td>y</td>\n",
       "      <td>2021-08-23 05:00:00+00:00</td>\n",
       "      <td>2021-08-23 06:55:00+00:00</td>\n",
       "      <td>beta</td>\n",
       "      <td>True</td>\n",
       "      <td>20.0</td>\n",
       "      <td>0</td>\n",
       "      <td>b-1</td>\n",
       "      <td>16391150</td>\n",
       "      <td>6500.0</td>\n",
       "    </tr>\n",
       "  </tbody>\n",
       "</table>\n",
       "</div>"
      ],
      "text/plain": [
       "   Unnamed: 0  Unnamed: 0.1                                f1 f2 f3  \\\n",
       "0      276919        276919  2021-01-08 12:43:27.828728+00:00  x  y   \n",
       "1    12092463      12092463  2021-07-01 04:45:11.397541+00:00  x  y   \n",
       "2    11061788      11061788  2021-06-24 11:28:47.565115+00:00  x  y   \n",
       "3     8799808       8799808  2021-06-05 11:09:48.655927+00:00  x  y   \n",
       "4    16391150      16391150  2021-07-29 09:53:51.065306+00:00  x  y   \n",
       "\n",
       "                          f4                         f5     f6    f7    f8  \\\n",
       "0  2021-01-23 05:00:00+00:00  2021-01-23 07:00:00+00:00  gamma  True   0.0   \n",
       "1  2021-07-01 13:00:00+00:00  2021-07-01 15:00:00+00:00  alpha  True  35.0   \n",
       "2  2021-07-29 14:00:00+00:00  2021-07-29 16:00:00+00:00  gamma  True  20.0   \n",
       "3  2021-06-09 16:00:00+00:00  2021-06-09 18:00:00+00:00  alpha  True  15.0   \n",
       "4  2021-08-23 05:00:00+00:00  2021-08-23 06:55:00+00:00   beta  True  20.0   \n",
       "\n",
       "   f9   f10  Unnamed: 0.2   target  \n",
       "0   0   c-2        276919   7400.0  \n",
       "1   1   a-9      12092463  15377.0  \n",
       "2   1   c-4      11061788   6900.0  \n",
       "3   1  a-23       8799808   9707.0  \n",
       "4   0   b-1      16391150   6500.0  "
      ]
     },
     "execution_count": 9,
     "metadata": {},
     "output_type": "execute_result"
    }
   ],
   "source": [
    "df.head()"
   ]
  },
  {
   "cell_type": "code",
   "execution_count": 10,
   "metadata": {},
   "outputs": [
    {
     "data": {
      "text/html": [
       "<div>\n",
       "<style scoped>\n",
       "    .dataframe tbody tr th:only-of-type {\n",
       "        vertical-align: middle;\n",
       "    }\n",
       "\n",
       "    .dataframe tbody tr th {\n",
       "        vertical-align: top;\n",
       "    }\n",
       "\n",
       "    .dataframe thead th {\n",
       "        text-align: right;\n",
       "    }\n",
       "</style>\n",
       "<table border=\"1\" class=\"dataframe\">\n",
       "  <thead>\n",
       "    <tr style=\"text-align: right;\">\n",
       "      <th></th>\n",
       "      <th>f1</th>\n",
       "      <th>f2</th>\n",
       "      <th>f3</th>\n",
       "      <th>f4</th>\n",
       "      <th>f5</th>\n",
       "      <th>f6</th>\n",
       "      <th>f7</th>\n",
       "      <th>f8</th>\n",
       "      <th>f9</th>\n",
       "      <th>f10</th>\n",
       "    </tr>\n",
       "  </thead>\n",
       "  <tbody>\n",
       "    <tr>\n",
       "      <th>0</th>\n",
       "      <td>2021-09-01 08:30:19.320999+00:00</td>\n",
       "      <td>x</td>\n",
       "      <td>y</td>\n",
       "      <td>2021-09-08 11:00:00+00:00</td>\n",
       "      <td>2021-09-08 12:55:00+00:00</td>\n",
       "      <td>beta</td>\n",
       "      <td>True</td>\n",
       "      <td>40</td>\n",
       "      <td>0</td>\n",
       "      <td>b-69</td>\n",
       "    </tr>\n",
       "    <tr>\n",
       "      <th>1</th>\n",
       "      <td>2021-09-01 08:30:19.320999+00:00</td>\n",
       "      <td>x</td>\n",
       "      <td>y</td>\n",
       "      <td>2021-09-08 14:00:00+00:00</td>\n",
       "      <td>2021-09-08 15:55:00+00:00</td>\n",
       "      <td>beta</td>\n",
       "      <td>True</td>\n",
       "      <td>40</td>\n",
       "      <td>0</td>\n",
       "      <td>b-9</td>\n",
       "    </tr>\n",
       "    <tr>\n",
       "      <th>2</th>\n",
       "      <td>2021-09-01 08:30:19.320999+00:00</td>\n",
       "      <td>x</td>\n",
       "      <td>y</td>\n",
       "      <td>2021-09-08 05:00:00+00:00</td>\n",
       "      <td>2021-09-08 06:55:00+00:00</td>\n",
       "      <td>beta</td>\n",
       "      <td>True</td>\n",
       "      <td>20</td>\n",
       "      <td>0</td>\n",
       "      <td>b-1</td>\n",
       "    </tr>\n",
       "    <tr>\n",
       "      <th>3</th>\n",
       "      <td>2021-09-01 08:30:20.396761+00:00</td>\n",
       "      <td>x</td>\n",
       "      <td>y</td>\n",
       "      <td>2021-09-08 05:30:00+00:00</td>\n",
       "      <td>2021-09-08 07:30:00+00:00</td>\n",
       "      <td>gamma</td>\n",
       "      <td>True</td>\n",
       "      <td>20</td>\n",
       "      <td>2</td>\n",
       "      <td>c-2</td>\n",
       "    </tr>\n",
       "    <tr>\n",
       "      <th>4</th>\n",
       "      <td>2021-09-01 08:30:20.396761+00:00</td>\n",
       "      <td>x</td>\n",
       "      <td>y</td>\n",
       "      <td>2021-09-08 05:30:00+00:00</td>\n",
       "      <td>2021-09-08 07:30:00+00:00</td>\n",
       "      <td>gamma</td>\n",
       "      <td>True</td>\n",
       "      <td>20</td>\n",
       "      <td>1</td>\n",
       "      <td>c-2</td>\n",
       "    </tr>\n",
       "  </tbody>\n",
       "</table>\n",
       "</div>"
      ],
      "text/plain": [
       "                                 f1 f2 f3                         f4  \\\n",
       "0  2021-09-01 08:30:19.320999+00:00  x  y  2021-09-08 11:00:00+00:00   \n",
       "1  2021-09-01 08:30:19.320999+00:00  x  y  2021-09-08 14:00:00+00:00   \n",
       "2  2021-09-01 08:30:19.320999+00:00  x  y  2021-09-08 05:00:00+00:00   \n",
       "3  2021-09-01 08:30:20.396761+00:00  x  y  2021-09-08 05:30:00+00:00   \n",
       "4  2021-09-01 08:30:20.396761+00:00  x  y  2021-09-08 05:30:00+00:00   \n",
       "\n",
       "                          f5     f6    f7  f8  f9   f10  \n",
       "0  2021-09-08 12:55:00+00:00   beta  True  40   0  b-69  \n",
       "1  2021-09-08 15:55:00+00:00   beta  True  40   0   b-9  \n",
       "2  2021-09-08 06:55:00+00:00   beta  True  20   0   b-1  \n",
       "3  2021-09-08 07:30:00+00:00  gamma  True  20   2   c-2  \n",
       "4  2021-09-08 07:30:00+00:00  gamma  True  20   1   c-2  "
      ]
     },
     "execution_count": 10,
     "metadata": {},
     "output_type": "execute_result"
    }
   ],
   "source": [
    "df1.head()"
   ]
  },
  {
   "cell_type": "code",
   "execution_count": 11,
   "metadata": {},
   "outputs": [
    {
     "name": "stdout",
     "output_type": "stream",
     "text": [
      "Index(['Unnamed: 0', 'Unnamed: 0.1', 'f1', 'f2', 'f3', 'f4', 'f5', 'f6', 'f7',\n",
      "       'f8', 'f9', 'f10', 'Unnamed: 0.2', 'target'],\n",
      "      dtype='object')\n"
     ]
    }
   ],
   "source": [
    "print(df.columns)"
   ]
  },
  {
   "cell_type": "code",
   "execution_count": 12,
   "metadata": {},
   "outputs": [
    {
     "data": {
      "text/plain": [
       "(5000, 14)"
      ]
     },
     "execution_count": 12,
     "metadata": {},
     "output_type": "execute_result"
    }
   ],
   "source": [
    "df.shape"
   ]
  },
  {
   "cell_type": "code",
   "execution_count": 13,
   "metadata": {},
   "outputs": [
    {
     "data": {
      "text/plain": [
       "(5000, 10)"
      ]
     },
     "execution_count": 13,
     "metadata": {},
     "output_type": "execute_result"
    }
   ],
   "source": [
    "df1.shape"
   ]
  },
  {
   "cell_type": "markdown",
   "metadata": {},
   "source": [
    "#### Step 3. Renaming The Columns of the dataset "
   ]
  },
  {
   "cell_type": "code",
   "execution_count": 14,
   "metadata": {},
   "outputs": [],
   "source": [
    "# Renaming Our Columns\n",
    "df.rename({'f1': 'Buying_Time', 'f2': 'Origin' , 'f3':'Destination', 'f4':'Depart_Time', 'f5':'Arrival_Time' , 'f6':'Airline',\n",
    "'f7': 'Ticket_Refunded', 'f8':'Bag_Weight', 'f9':'Bag_Pieces' , 'f10':'Airline_No.','target':'Fare'}\n",
    ", axis=1, inplace=True)\n",
    "df1.rename({'f1': 'Buying_Time', 'f2': 'Origin' , 'f3':'Destination', 'f4':'Depart_Time', 'f5':'Arrival_Time' , 'f6':'Airline',\n",
    "'f7': 'Ticket_Refunded', 'f8':'Bag_Weight', 'f9':'Bag_Pieces' , 'f10':'Airline_No.'}\n",
    ", axis=1, inplace=True)"
   ]
  },
  {
   "cell_type": "code",
   "execution_count": 15,
   "metadata": {},
   "outputs": [
    {
     "data": {
      "text/html": [
       "<div>\n",
       "<style scoped>\n",
       "    .dataframe tbody tr th:only-of-type {\n",
       "        vertical-align: middle;\n",
       "    }\n",
       "\n",
       "    .dataframe tbody tr th {\n",
       "        vertical-align: top;\n",
       "    }\n",
       "\n",
       "    .dataframe thead th {\n",
       "        text-align: right;\n",
       "    }\n",
       "</style>\n",
       "<table border=\"1\" class=\"dataframe\">\n",
       "  <thead>\n",
       "    <tr style=\"text-align: right;\">\n",
       "      <th></th>\n",
       "      <th>Unnamed: 0</th>\n",
       "      <th>Unnamed: 0.1</th>\n",
       "      <th>Buying_Time</th>\n",
       "      <th>Origin</th>\n",
       "      <th>Destination</th>\n",
       "      <th>Depart_Time</th>\n",
       "      <th>Arrival_Time</th>\n",
       "      <th>Airline</th>\n",
       "      <th>Ticket_Refunded</th>\n",
       "      <th>Bag_Weight</th>\n",
       "      <th>Bag_Pieces</th>\n",
       "      <th>Airline_No.</th>\n",
       "      <th>Unnamed: 0.2</th>\n",
       "      <th>Fare</th>\n",
       "    </tr>\n",
       "  </thead>\n",
       "  <tbody>\n",
       "    <tr>\n",
       "      <th>0</th>\n",
       "      <td>276919</td>\n",
       "      <td>276919</td>\n",
       "      <td>2021-01-08 12:43:27.828728+00:00</td>\n",
       "      <td>x</td>\n",
       "      <td>y</td>\n",
       "      <td>2021-01-23 05:00:00+00:00</td>\n",
       "      <td>2021-01-23 07:00:00+00:00</td>\n",
       "      <td>gamma</td>\n",
       "      <td>True</td>\n",
       "      <td>0.0</td>\n",
       "      <td>0</td>\n",
       "      <td>c-2</td>\n",
       "      <td>276919</td>\n",
       "      <td>7400.0</td>\n",
       "    </tr>\n",
       "    <tr>\n",
       "      <th>1</th>\n",
       "      <td>12092463</td>\n",
       "      <td>12092463</td>\n",
       "      <td>2021-07-01 04:45:11.397541+00:00</td>\n",
       "      <td>x</td>\n",
       "      <td>y</td>\n",
       "      <td>2021-07-01 13:00:00+00:00</td>\n",
       "      <td>2021-07-01 15:00:00+00:00</td>\n",
       "      <td>alpha</td>\n",
       "      <td>True</td>\n",
       "      <td>35.0</td>\n",
       "      <td>1</td>\n",
       "      <td>a-9</td>\n",
       "      <td>12092463</td>\n",
       "      <td>15377.0</td>\n",
       "    </tr>\n",
       "    <tr>\n",
       "      <th>2</th>\n",
       "      <td>11061788</td>\n",
       "      <td>11061788</td>\n",
       "      <td>2021-06-24 11:28:47.565115+00:00</td>\n",
       "      <td>x</td>\n",
       "      <td>y</td>\n",
       "      <td>2021-07-29 14:00:00+00:00</td>\n",
       "      <td>2021-07-29 16:00:00+00:00</td>\n",
       "      <td>gamma</td>\n",
       "      <td>True</td>\n",
       "      <td>20.0</td>\n",
       "      <td>1</td>\n",
       "      <td>c-4</td>\n",
       "      <td>11061788</td>\n",
       "      <td>6900.0</td>\n",
       "    </tr>\n",
       "    <tr>\n",
       "      <th>3</th>\n",
       "      <td>8799808</td>\n",
       "      <td>8799808</td>\n",
       "      <td>2021-06-05 11:09:48.655927+00:00</td>\n",
       "      <td>x</td>\n",
       "      <td>y</td>\n",
       "      <td>2021-06-09 16:00:00+00:00</td>\n",
       "      <td>2021-06-09 18:00:00+00:00</td>\n",
       "      <td>alpha</td>\n",
       "      <td>True</td>\n",
       "      <td>15.0</td>\n",
       "      <td>1</td>\n",
       "      <td>a-23</td>\n",
       "      <td>8799808</td>\n",
       "      <td>9707.0</td>\n",
       "    </tr>\n",
       "    <tr>\n",
       "      <th>4</th>\n",
       "      <td>16391150</td>\n",
       "      <td>16391150</td>\n",
       "      <td>2021-07-29 09:53:51.065306+00:00</td>\n",
       "      <td>x</td>\n",
       "      <td>y</td>\n",
       "      <td>2021-08-23 05:00:00+00:00</td>\n",
       "      <td>2021-08-23 06:55:00+00:00</td>\n",
       "      <td>beta</td>\n",
       "      <td>True</td>\n",
       "      <td>20.0</td>\n",
       "      <td>0</td>\n",
       "      <td>b-1</td>\n",
       "      <td>16391150</td>\n",
       "      <td>6500.0</td>\n",
       "    </tr>\n",
       "  </tbody>\n",
       "</table>\n",
       "</div>"
      ],
      "text/plain": [
       "   Unnamed: 0  Unnamed: 0.1                       Buying_Time Origin  \\\n",
       "0      276919        276919  2021-01-08 12:43:27.828728+00:00      x   \n",
       "1    12092463      12092463  2021-07-01 04:45:11.397541+00:00      x   \n",
       "2    11061788      11061788  2021-06-24 11:28:47.565115+00:00      x   \n",
       "3     8799808       8799808  2021-06-05 11:09:48.655927+00:00      x   \n",
       "4    16391150      16391150  2021-07-29 09:53:51.065306+00:00      x   \n",
       "\n",
       "  Destination                Depart_Time               Arrival_Time Airline  \\\n",
       "0           y  2021-01-23 05:00:00+00:00  2021-01-23 07:00:00+00:00   gamma   \n",
       "1           y  2021-07-01 13:00:00+00:00  2021-07-01 15:00:00+00:00   alpha   \n",
       "2           y  2021-07-29 14:00:00+00:00  2021-07-29 16:00:00+00:00   gamma   \n",
       "3           y  2021-06-09 16:00:00+00:00  2021-06-09 18:00:00+00:00   alpha   \n",
       "4           y  2021-08-23 05:00:00+00:00  2021-08-23 06:55:00+00:00    beta   \n",
       "\n",
       "   Ticket_Refunded  Bag_Weight  Bag_Pieces Airline_No.  Unnamed: 0.2     Fare  \n",
       "0             True         0.0           0         c-2        276919   7400.0  \n",
       "1             True        35.0           1         a-9      12092463  15377.0  \n",
       "2             True        20.0           1         c-4      11061788   6900.0  \n",
       "3             True        15.0           1        a-23       8799808   9707.0  \n",
       "4             True        20.0           0         b-1      16391150   6500.0  "
      ]
     },
     "execution_count": 15,
     "metadata": {},
     "output_type": "execute_result"
    }
   ],
   "source": [
    "df.head()"
   ]
  },
  {
   "cell_type": "code",
   "execution_count": 16,
   "metadata": {},
   "outputs": [
    {
     "data": {
      "text/html": [
       "<div>\n",
       "<style scoped>\n",
       "    .dataframe tbody tr th:only-of-type {\n",
       "        vertical-align: middle;\n",
       "    }\n",
       "\n",
       "    .dataframe tbody tr th {\n",
       "        vertical-align: top;\n",
       "    }\n",
       "\n",
       "    .dataframe thead th {\n",
       "        text-align: right;\n",
       "    }\n",
       "</style>\n",
       "<table border=\"1\" class=\"dataframe\">\n",
       "  <thead>\n",
       "    <tr style=\"text-align: right;\">\n",
       "      <th></th>\n",
       "      <th>Buying_Time</th>\n",
       "      <th>Origin</th>\n",
       "      <th>Destination</th>\n",
       "      <th>Depart_Time</th>\n",
       "      <th>Arrival_Time</th>\n",
       "      <th>Airline</th>\n",
       "      <th>Ticket_Refunded</th>\n",
       "      <th>Bag_Weight</th>\n",
       "      <th>Bag_Pieces</th>\n",
       "      <th>Airline_No.</th>\n",
       "    </tr>\n",
       "  </thead>\n",
       "  <tbody>\n",
       "    <tr>\n",
       "      <th>0</th>\n",
       "      <td>2021-09-01 08:30:19.320999+00:00</td>\n",
       "      <td>x</td>\n",
       "      <td>y</td>\n",
       "      <td>2021-09-08 11:00:00+00:00</td>\n",
       "      <td>2021-09-08 12:55:00+00:00</td>\n",
       "      <td>beta</td>\n",
       "      <td>True</td>\n",
       "      <td>40</td>\n",
       "      <td>0</td>\n",
       "      <td>b-69</td>\n",
       "    </tr>\n",
       "    <tr>\n",
       "      <th>1</th>\n",
       "      <td>2021-09-01 08:30:19.320999+00:00</td>\n",
       "      <td>x</td>\n",
       "      <td>y</td>\n",
       "      <td>2021-09-08 14:00:00+00:00</td>\n",
       "      <td>2021-09-08 15:55:00+00:00</td>\n",
       "      <td>beta</td>\n",
       "      <td>True</td>\n",
       "      <td>40</td>\n",
       "      <td>0</td>\n",
       "      <td>b-9</td>\n",
       "    </tr>\n",
       "    <tr>\n",
       "      <th>2</th>\n",
       "      <td>2021-09-01 08:30:19.320999+00:00</td>\n",
       "      <td>x</td>\n",
       "      <td>y</td>\n",
       "      <td>2021-09-08 05:00:00+00:00</td>\n",
       "      <td>2021-09-08 06:55:00+00:00</td>\n",
       "      <td>beta</td>\n",
       "      <td>True</td>\n",
       "      <td>20</td>\n",
       "      <td>0</td>\n",
       "      <td>b-1</td>\n",
       "    </tr>\n",
       "    <tr>\n",
       "      <th>3</th>\n",
       "      <td>2021-09-01 08:30:20.396761+00:00</td>\n",
       "      <td>x</td>\n",
       "      <td>y</td>\n",
       "      <td>2021-09-08 05:30:00+00:00</td>\n",
       "      <td>2021-09-08 07:30:00+00:00</td>\n",
       "      <td>gamma</td>\n",
       "      <td>True</td>\n",
       "      <td>20</td>\n",
       "      <td>2</td>\n",
       "      <td>c-2</td>\n",
       "    </tr>\n",
       "    <tr>\n",
       "      <th>4</th>\n",
       "      <td>2021-09-01 08:30:20.396761+00:00</td>\n",
       "      <td>x</td>\n",
       "      <td>y</td>\n",
       "      <td>2021-09-08 05:30:00+00:00</td>\n",
       "      <td>2021-09-08 07:30:00+00:00</td>\n",
       "      <td>gamma</td>\n",
       "      <td>True</td>\n",
       "      <td>20</td>\n",
       "      <td>1</td>\n",
       "      <td>c-2</td>\n",
       "    </tr>\n",
       "  </tbody>\n",
       "</table>\n",
       "</div>"
      ],
      "text/plain": [
       "                        Buying_Time Origin Destination  \\\n",
       "0  2021-09-01 08:30:19.320999+00:00      x           y   \n",
       "1  2021-09-01 08:30:19.320999+00:00      x           y   \n",
       "2  2021-09-01 08:30:19.320999+00:00      x           y   \n",
       "3  2021-09-01 08:30:20.396761+00:00      x           y   \n",
       "4  2021-09-01 08:30:20.396761+00:00      x           y   \n",
       "\n",
       "                 Depart_Time               Arrival_Time Airline  \\\n",
       "0  2021-09-08 11:00:00+00:00  2021-09-08 12:55:00+00:00    beta   \n",
       "1  2021-09-08 14:00:00+00:00  2021-09-08 15:55:00+00:00    beta   \n",
       "2  2021-09-08 05:00:00+00:00  2021-09-08 06:55:00+00:00    beta   \n",
       "3  2021-09-08 05:30:00+00:00  2021-09-08 07:30:00+00:00   gamma   \n",
       "4  2021-09-08 05:30:00+00:00  2021-09-08 07:30:00+00:00   gamma   \n",
       "\n",
       "   Ticket_Refunded  Bag_Weight  Bag_Pieces Airline_No.  \n",
       "0             True          40           0        b-69  \n",
       "1             True          40           0         b-9  \n",
       "2             True          20           0         b-1  \n",
       "3             True          20           2         c-2  \n",
       "4             True          20           1         c-2  "
      ]
     },
     "execution_count": 16,
     "metadata": {},
     "output_type": "execute_result"
    }
   ],
   "source": [
    "df1.head()"
   ]
  },
  {
   "cell_type": "markdown",
   "metadata": {},
   "source": [
    "#### Step 4. Making a categorical and Numerical list"
   ]
  },
  {
   "cell_type": "code",
   "execution_count": 17,
   "metadata": {},
   "outputs": [],
   "source": [
    "cat_cols= ['Airline','Ticket_Refunded','Bag_Weight','Bag_Pieces']\n",
    "num_cols= ['Days_to_Depart','hrs_to_Depart','min_to_Depart']"
   ]
  },
  {
   "cell_type": "markdown",
   "metadata": {},
   "source": [
    "#### Step 5. Dropping the Unnecessary Columns from Dataframe"
   ]
  },
  {
   "cell_type": "code",
   "execution_count": 18,
   "metadata": {},
   "outputs": [],
   "source": [
    "df.drop(['Origin','Destination','Airline_No.','Unnamed: 0','Unnamed: 0.2'],axis=1,inplace=True, errors='ignore')\n",
    "df1.drop(['Origin','Destination','Airline_No.','Unnamed: 0'],axis=1,inplace=True, errors='ignore')"
   ]
  },
  {
   "cell_type": "code",
   "execution_count": 19,
   "metadata": {},
   "outputs": [
    {
     "data": {
      "text/html": [
       "<div>\n",
       "<style scoped>\n",
       "    .dataframe tbody tr th:only-of-type {\n",
       "        vertical-align: middle;\n",
       "    }\n",
       "\n",
       "    .dataframe tbody tr th {\n",
       "        vertical-align: top;\n",
       "    }\n",
       "\n",
       "    .dataframe thead th {\n",
       "        text-align: right;\n",
       "    }\n",
       "</style>\n",
       "<table border=\"1\" class=\"dataframe\">\n",
       "  <thead>\n",
       "    <tr style=\"text-align: right;\">\n",
       "      <th></th>\n",
       "      <th>Unnamed: 0.1</th>\n",
       "      <th>Buying_Time</th>\n",
       "      <th>Depart_Time</th>\n",
       "      <th>Arrival_Time</th>\n",
       "      <th>Airline</th>\n",
       "      <th>Ticket_Refunded</th>\n",
       "      <th>Bag_Weight</th>\n",
       "      <th>Bag_Pieces</th>\n",
       "      <th>Fare</th>\n",
       "    </tr>\n",
       "  </thead>\n",
       "  <tbody>\n",
       "    <tr>\n",
       "      <th>0</th>\n",
       "      <td>276919</td>\n",
       "      <td>2021-01-08 12:43:27.828728+00:00</td>\n",
       "      <td>2021-01-23 05:00:00+00:00</td>\n",
       "      <td>2021-01-23 07:00:00+00:00</td>\n",
       "      <td>gamma</td>\n",
       "      <td>True</td>\n",
       "      <td>0.0</td>\n",
       "      <td>0</td>\n",
       "      <td>7400.0</td>\n",
       "    </tr>\n",
       "    <tr>\n",
       "      <th>1</th>\n",
       "      <td>12092463</td>\n",
       "      <td>2021-07-01 04:45:11.397541+00:00</td>\n",
       "      <td>2021-07-01 13:00:00+00:00</td>\n",
       "      <td>2021-07-01 15:00:00+00:00</td>\n",
       "      <td>alpha</td>\n",
       "      <td>True</td>\n",
       "      <td>35.0</td>\n",
       "      <td>1</td>\n",
       "      <td>15377.0</td>\n",
       "    </tr>\n",
       "    <tr>\n",
       "      <th>2</th>\n",
       "      <td>11061788</td>\n",
       "      <td>2021-06-24 11:28:47.565115+00:00</td>\n",
       "      <td>2021-07-29 14:00:00+00:00</td>\n",
       "      <td>2021-07-29 16:00:00+00:00</td>\n",
       "      <td>gamma</td>\n",
       "      <td>True</td>\n",
       "      <td>20.0</td>\n",
       "      <td>1</td>\n",
       "      <td>6900.0</td>\n",
       "    </tr>\n",
       "    <tr>\n",
       "      <th>3</th>\n",
       "      <td>8799808</td>\n",
       "      <td>2021-06-05 11:09:48.655927+00:00</td>\n",
       "      <td>2021-06-09 16:00:00+00:00</td>\n",
       "      <td>2021-06-09 18:00:00+00:00</td>\n",
       "      <td>alpha</td>\n",
       "      <td>True</td>\n",
       "      <td>15.0</td>\n",
       "      <td>1</td>\n",
       "      <td>9707.0</td>\n",
       "    </tr>\n",
       "    <tr>\n",
       "      <th>4</th>\n",
       "      <td>16391150</td>\n",
       "      <td>2021-07-29 09:53:51.065306+00:00</td>\n",
       "      <td>2021-08-23 05:00:00+00:00</td>\n",
       "      <td>2021-08-23 06:55:00+00:00</td>\n",
       "      <td>beta</td>\n",
       "      <td>True</td>\n",
       "      <td>20.0</td>\n",
       "      <td>0</td>\n",
       "      <td>6500.0</td>\n",
       "    </tr>\n",
       "  </tbody>\n",
       "</table>\n",
       "</div>"
      ],
      "text/plain": [
       "   Unnamed: 0.1                       Buying_Time                Depart_Time  \\\n",
       "0        276919  2021-01-08 12:43:27.828728+00:00  2021-01-23 05:00:00+00:00   \n",
       "1      12092463  2021-07-01 04:45:11.397541+00:00  2021-07-01 13:00:00+00:00   \n",
       "2      11061788  2021-06-24 11:28:47.565115+00:00  2021-07-29 14:00:00+00:00   \n",
       "3       8799808  2021-06-05 11:09:48.655927+00:00  2021-06-09 16:00:00+00:00   \n",
       "4      16391150  2021-07-29 09:53:51.065306+00:00  2021-08-23 05:00:00+00:00   \n",
       "\n",
       "                Arrival_Time Airline  Ticket_Refunded  Bag_Weight  Bag_Pieces  \\\n",
       "0  2021-01-23 07:00:00+00:00   gamma             True         0.0           0   \n",
       "1  2021-07-01 15:00:00+00:00   alpha             True        35.0           1   \n",
       "2  2021-07-29 16:00:00+00:00   gamma             True        20.0           1   \n",
       "3  2021-06-09 18:00:00+00:00   alpha             True        15.0           1   \n",
       "4  2021-08-23 06:55:00+00:00    beta             True        20.0           0   \n",
       "\n",
       "      Fare  \n",
       "0   7400.0  \n",
       "1  15377.0  \n",
       "2   6900.0  \n",
       "3   9707.0  \n",
       "4   6500.0  "
      ]
     },
     "execution_count": 19,
     "metadata": {},
     "output_type": "execute_result"
    }
   ],
   "source": [
    "df.head()"
   ]
  },
  {
   "cell_type": "code",
   "execution_count": 20,
   "metadata": {},
   "outputs": [
    {
     "data": {
      "text/html": [
       "<div>\n",
       "<style scoped>\n",
       "    .dataframe tbody tr th:only-of-type {\n",
       "        vertical-align: middle;\n",
       "    }\n",
       "\n",
       "    .dataframe tbody tr th {\n",
       "        vertical-align: top;\n",
       "    }\n",
       "\n",
       "    .dataframe thead th {\n",
       "        text-align: right;\n",
       "    }\n",
       "</style>\n",
       "<table border=\"1\" class=\"dataframe\">\n",
       "  <thead>\n",
       "    <tr style=\"text-align: right;\">\n",
       "      <th></th>\n",
       "      <th>Buying_Time</th>\n",
       "      <th>Depart_Time</th>\n",
       "      <th>Arrival_Time</th>\n",
       "      <th>Airline</th>\n",
       "      <th>Ticket_Refunded</th>\n",
       "      <th>Bag_Weight</th>\n",
       "      <th>Bag_Pieces</th>\n",
       "    </tr>\n",
       "  </thead>\n",
       "  <tbody>\n",
       "    <tr>\n",
       "      <th>0</th>\n",
       "      <td>2021-09-01 08:30:19.320999+00:00</td>\n",
       "      <td>2021-09-08 11:00:00+00:00</td>\n",
       "      <td>2021-09-08 12:55:00+00:00</td>\n",
       "      <td>beta</td>\n",
       "      <td>True</td>\n",
       "      <td>40</td>\n",
       "      <td>0</td>\n",
       "    </tr>\n",
       "    <tr>\n",
       "      <th>1</th>\n",
       "      <td>2021-09-01 08:30:19.320999+00:00</td>\n",
       "      <td>2021-09-08 14:00:00+00:00</td>\n",
       "      <td>2021-09-08 15:55:00+00:00</td>\n",
       "      <td>beta</td>\n",
       "      <td>True</td>\n",
       "      <td>40</td>\n",
       "      <td>0</td>\n",
       "    </tr>\n",
       "    <tr>\n",
       "      <th>2</th>\n",
       "      <td>2021-09-01 08:30:19.320999+00:00</td>\n",
       "      <td>2021-09-08 05:00:00+00:00</td>\n",
       "      <td>2021-09-08 06:55:00+00:00</td>\n",
       "      <td>beta</td>\n",
       "      <td>True</td>\n",
       "      <td>20</td>\n",
       "      <td>0</td>\n",
       "    </tr>\n",
       "    <tr>\n",
       "      <th>3</th>\n",
       "      <td>2021-09-01 08:30:20.396761+00:00</td>\n",
       "      <td>2021-09-08 05:30:00+00:00</td>\n",
       "      <td>2021-09-08 07:30:00+00:00</td>\n",
       "      <td>gamma</td>\n",
       "      <td>True</td>\n",
       "      <td>20</td>\n",
       "      <td>2</td>\n",
       "    </tr>\n",
       "    <tr>\n",
       "      <th>4</th>\n",
       "      <td>2021-09-01 08:30:20.396761+00:00</td>\n",
       "      <td>2021-09-08 05:30:00+00:00</td>\n",
       "      <td>2021-09-08 07:30:00+00:00</td>\n",
       "      <td>gamma</td>\n",
       "      <td>True</td>\n",
       "      <td>20</td>\n",
       "      <td>1</td>\n",
       "    </tr>\n",
       "  </tbody>\n",
       "</table>\n",
       "</div>"
      ],
      "text/plain": [
       "                        Buying_Time                Depart_Time  \\\n",
       "0  2021-09-01 08:30:19.320999+00:00  2021-09-08 11:00:00+00:00   \n",
       "1  2021-09-01 08:30:19.320999+00:00  2021-09-08 14:00:00+00:00   \n",
       "2  2021-09-01 08:30:19.320999+00:00  2021-09-08 05:00:00+00:00   \n",
       "3  2021-09-01 08:30:20.396761+00:00  2021-09-08 05:30:00+00:00   \n",
       "4  2021-09-01 08:30:20.396761+00:00  2021-09-08 05:30:00+00:00   \n",
       "\n",
       "                Arrival_Time Airline  Ticket_Refunded  Bag_Weight  Bag_Pieces  \n",
       "0  2021-09-08 12:55:00+00:00    beta             True          40           0  \n",
       "1  2021-09-08 15:55:00+00:00    beta             True          40           0  \n",
       "2  2021-09-08 06:55:00+00:00    beta             True          20           0  \n",
       "3  2021-09-08 07:30:00+00:00   gamma             True          20           2  \n",
       "4  2021-09-08 07:30:00+00:00   gamma             True          20           1  "
      ]
     },
     "execution_count": 20,
     "metadata": {},
     "output_type": "execute_result"
    }
   ],
   "source": [
    "df1.head()"
   ]
  },
  {
   "cell_type": "code",
   "execution_count": 21,
   "metadata": {},
   "outputs": [
    {
     "name": "stdout",
     "output_type": "stream",
     "text": [
      "Airline ['gamma' 'alpha' 'beta' 'omega']\n",
      "Ticket_Refunded [ True False]\n",
      "Bag_Weight [ 0. 35. 20. 15. 32. 40. 45.]\n",
      "Bag_Pieces [0 1 2]\n"
     ]
    }
   ],
   "source": [
    "# Print the unique values in the Categorical list\n",
    "\n",
    "# Unique value in each column\n",
    "\n",
    "for i in cat_cols:\n",
    "    print(i,df[i].unique())"
   ]
  },
  {
   "cell_type": "code",
   "execution_count": 22,
   "metadata": {},
   "outputs": [
    {
     "name": "stdout",
     "output_type": "stream",
     "text": [
      "<class 'pandas.core.frame.DataFrame'>\n",
      "RangeIndex: 5000 entries, 0 to 4999\n",
      "Data columns (total 9 columns):\n",
      " #   Column           Non-Null Count  Dtype  \n",
      "---  ------           --------------  -----  \n",
      " 0   Unnamed: 0.1     5000 non-null   int64  \n",
      " 1   Buying_Time      5000 non-null   object \n",
      " 2   Depart_Time      5000 non-null   object \n",
      " 3   Arrival_Time     5000 non-null   object \n",
      " 4   Airline          5000 non-null   object \n",
      " 5   Ticket_Refunded  5000 non-null   bool   \n",
      " 6   Bag_Weight       5000 non-null   float64\n",
      " 7   Bag_Pieces       5000 non-null   int64  \n",
      " 8   Fare             5000 non-null   float64\n",
      "dtypes: bool(1), float64(2), int64(2), object(4)\n",
      "memory usage: 317.5+ KB\n"
     ]
    }
   ],
   "source": [
    "df.info()"
   ]
  },
  {
   "cell_type": "markdown",
   "metadata": {},
   "source": [
    "#### Step 6. Convert the date and time columns into the datetime objects"
   ]
  },
  {
   "cell_type": "code",
   "execution_count": 23,
   "metadata": {},
   "outputs": [],
   "source": [
    "# Convert them into the datetime objects\n",
    "\n",
    "import datetime"
   ]
  },
  {
   "cell_type": "code",
   "execution_count": 24,
   "metadata": {},
   "outputs": [],
   "source": [
    "from datetime import date\n",
    "\n",
    "from datetime import datetime"
   ]
  },
  {
   "cell_type": "markdown",
   "metadata": {},
   "source": [
    "#### Step 7. Type Casting (Conversion of the datetime into objects)"
   ]
  },
  {
   "cell_type": "code",
   "execution_count": 25,
   "metadata": {},
   "outputs": [],
   "source": [
    "# Converting the dataframe from column datetime into object\n",
    "\n",
    "\n",
    "df['Buying_Time']= pd.to_datetime(df['Buying_Time'])\n",
    "\n",
    "df['Depart_Time']= pd.to_datetime(df['Depart_Time'])\n",
    "\n",
    "df['Arrival_Time']= pd.to_datetime(df['Arrival_Time'])"
   ]
  },
  {
   "cell_type": "code",
   "execution_count": 26,
   "metadata": {},
   "outputs": [],
   "source": [
    "# Converting the dataframe from column datetime into object\n",
    "\n",
    "df1['Buying_Time']= pd.to_datetime(df1['Buying_Time'])\n",
    "\n",
    "df1['Depart_Time']= pd.to_datetime(df1['Depart_Time'])\n",
    "\n",
    "df1['Arrival_Time']= pd.to_datetime(df1['Arrival_Time'])"
   ]
  },
  {
   "cell_type": "markdown",
   "metadata": {},
   "source": [
    "#### Step 8. Feature Engineering"
   ]
  },
  {
   "cell_type": "code",
   "execution_count": 27,
   "metadata": {},
   "outputs": [],
   "source": [
    "# Feature Engineering\n",
    "\n",
    "date_format_string= '%Y/%m/%d %.f'\n",
    "f1= pd.to_datetime(df['Buying_Time'], date_format_string)\n",
    "f2= pd.to_datetime(df['Depart_Time'], date_format_string)\n",
    "f3= pd.to_datetime(df['Arrival_Time'], date_format_string)\n",
    "\n",
    "f11= pd.to_datetime(df1['Buying_Time'], date_format_string)\n",
    "f22= pd.to_datetime(df1['Depart_Time'], date_format_string)\n",
    "f33= pd.to_datetime(df1['Arrival_Time'], date_format_string)\n",
    "\n"
   ]
  },
  {
   "cell_type": "code",
   "execution_count": 28,
   "metadata": {},
   "outputs": [],
   "source": [
    "# Feature Engineering for dataframe (df)\n",
    "diff = f2-f1\n",
    "df['Days_to_Depart'] = diff\n",
    "df['Days_to_Depart'] = df['Days_to_Depart'].dt.days.values\n",
    "df['hrs_to_Depart'] = diff\n",
    "df['hrs_to_Depart'] = df['hrs_to_Depart'].dt.components['hours']\n",
    "df['min_to_Depart'] = diff\n",
    "df['min_to_Depart'] = df['min_to_Depart'].dt.components['minutes']\n",
    "\n"
   ]
  },
  {
   "cell_type": "code",
   "execution_count": 29,
   "metadata": {},
   "outputs": [],
   "source": [
    "# Feature Engineering for dataframe (df1)\n",
    "diff1 = f22-f11\n",
    "df1['Days_to_Depart'] = diff\n",
    "df1['Days_to_Depart'] = df1['Days_to_Depart'].dt.days.values\n",
    "df1['hrs_to_Depart'] = diff\n",
    "df1['hrs_to_Depart'] = df1['hrs_to_Depart'].dt.components['hours']\n",
    "df1['min_to_Depart'] = diff\n",
    "df1['min_to_Depart'] = df1['min_to_Depart'].dt.components['minutes']"
   ]
  },
  {
   "cell_type": "code",
   "execution_count": 30,
   "metadata": {},
   "outputs": [
    {
     "data": {
      "text/html": [
       "<div>\n",
       "<style scoped>\n",
       "    .dataframe tbody tr th:only-of-type {\n",
       "        vertical-align: middle;\n",
       "    }\n",
       "\n",
       "    .dataframe tbody tr th {\n",
       "        vertical-align: top;\n",
       "    }\n",
       "\n",
       "    .dataframe thead th {\n",
       "        text-align: right;\n",
       "    }\n",
       "</style>\n",
       "<table border=\"1\" class=\"dataframe\">\n",
       "  <thead>\n",
       "    <tr style=\"text-align: right;\">\n",
       "      <th></th>\n",
       "      <th>Unnamed: 0.1</th>\n",
       "      <th>Buying_Time</th>\n",
       "      <th>Depart_Time</th>\n",
       "      <th>Arrival_Time</th>\n",
       "      <th>Airline</th>\n",
       "      <th>Ticket_Refunded</th>\n",
       "      <th>Bag_Weight</th>\n",
       "      <th>Bag_Pieces</th>\n",
       "      <th>Fare</th>\n",
       "      <th>Days_to_Depart</th>\n",
       "      <th>hrs_to_Depart</th>\n",
       "      <th>min_to_Depart</th>\n",
       "    </tr>\n",
       "  </thead>\n",
       "  <tbody>\n",
       "    <tr>\n",
       "      <th>0</th>\n",
       "      <td>276919</td>\n",
       "      <td>2021-01-08 12:43:27.828728+00:00</td>\n",
       "      <td>2021-01-23 05:00:00+00:00</td>\n",
       "      <td>2021-01-23 07:00:00+00:00</td>\n",
       "      <td>gamma</td>\n",
       "      <td>True</td>\n",
       "      <td>0.0</td>\n",
       "      <td>0</td>\n",
       "      <td>7400.0</td>\n",
       "      <td>14</td>\n",
       "      <td>16</td>\n",
       "      <td>16</td>\n",
       "    </tr>\n",
       "    <tr>\n",
       "      <th>1</th>\n",
       "      <td>12092463</td>\n",
       "      <td>2021-07-01 04:45:11.397541+00:00</td>\n",
       "      <td>2021-07-01 13:00:00+00:00</td>\n",
       "      <td>2021-07-01 15:00:00+00:00</td>\n",
       "      <td>alpha</td>\n",
       "      <td>True</td>\n",
       "      <td>35.0</td>\n",
       "      <td>1</td>\n",
       "      <td>15377.0</td>\n",
       "      <td>0</td>\n",
       "      <td>8</td>\n",
       "      <td>14</td>\n",
       "    </tr>\n",
       "    <tr>\n",
       "      <th>2</th>\n",
       "      <td>11061788</td>\n",
       "      <td>2021-06-24 11:28:47.565115+00:00</td>\n",
       "      <td>2021-07-29 14:00:00+00:00</td>\n",
       "      <td>2021-07-29 16:00:00+00:00</td>\n",
       "      <td>gamma</td>\n",
       "      <td>True</td>\n",
       "      <td>20.0</td>\n",
       "      <td>1</td>\n",
       "      <td>6900.0</td>\n",
       "      <td>35</td>\n",
       "      <td>2</td>\n",
       "      <td>31</td>\n",
       "    </tr>\n",
       "    <tr>\n",
       "      <th>3</th>\n",
       "      <td>8799808</td>\n",
       "      <td>2021-06-05 11:09:48.655927+00:00</td>\n",
       "      <td>2021-06-09 16:00:00+00:00</td>\n",
       "      <td>2021-06-09 18:00:00+00:00</td>\n",
       "      <td>alpha</td>\n",
       "      <td>True</td>\n",
       "      <td>15.0</td>\n",
       "      <td>1</td>\n",
       "      <td>9707.0</td>\n",
       "      <td>4</td>\n",
       "      <td>4</td>\n",
       "      <td>50</td>\n",
       "    </tr>\n",
       "    <tr>\n",
       "      <th>4</th>\n",
       "      <td>16391150</td>\n",
       "      <td>2021-07-29 09:53:51.065306+00:00</td>\n",
       "      <td>2021-08-23 05:00:00+00:00</td>\n",
       "      <td>2021-08-23 06:55:00+00:00</td>\n",
       "      <td>beta</td>\n",
       "      <td>True</td>\n",
       "      <td>20.0</td>\n",
       "      <td>0</td>\n",
       "      <td>6500.0</td>\n",
       "      <td>24</td>\n",
       "      <td>19</td>\n",
       "      <td>6</td>\n",
       "    </tr>\n",
       "  </tbody>\n",
       "</table>\n",
       "</div>"
      ],
      "text/plain": [
       "   Unnamed: 0.1                      Buying_Time               Depart_Time  \\\n",
       "0        276919 2021-01-08 12:43:27.828728+00:00 2021-01-23 05:00:00+00:00   \n",
       "1      12092463 2021-07-01 04:45:11.397541+00:00 2021-07-01 13:00:00+00:00   \n",
       "2      11061788 2021-06-24 11:28:47.565115+00:00 2021-07-29 14:00:00+00:00   \n",
       "3       8799808 2021-06-05 11:09:48.655927+00:00 2021-06-09 16:00:00+00:00   \n",
       "4      16391150 2021-07-29 09:53:51.065306+00:00 2021-08-23 05:00:00+00:00   \n",
       "\n",
       "               Arrival_Time Airline  Ticket_Refunded  Bag_Weight  Bag_Pieces  \\\n",
       "0 2021-01-23 07:00:00+00:00   gamma             True         0.0           0   \n",
       "1 2021-07-01 15:00:00+00:00   alpha             True        35.0           1   \n",
       "2 2021-07-29 16:00:00+00:00   gamma             True        20.0           1   \n",
       "3 2021-06-09 18:00:00+00:00   alpha             True        15.0           1   \n",
       "4 2021-08-23 06:55:00+00:00    beta             True        20.0           0   \n",
       "\n",
       "      Fare  Days_to_Depart  hrs_to_Depart  min_to_Depart  \n",
       "0   7400.0              14             16             16  \n",
       "1  15377.0               0              8             14  \n",
       "2   6900.0              35              2             31  \n",
       "3   9707.0               4              4             50  \n",
       "4   6500.0              24             19              6  "
      ]
     },
     "execution_count": 30,
     "metadata": {},
     "output_type": "execute_result"
    }
   ],
   "source": [
    "df.head()"
   ]
  },
  {
   "cell_type": "code",
   "execution_count": 31,
   "metadata": {},
   "outputs": [
    {
     "data": {
      "text/html": [
       "<div>\n",
       "<style scoped>\n",
       "    .dataframe tbody tr th:only-of-type {\n",
       "        vertical-align: middle;\n",
       "    }\n",
       "\n",
       "    .dataframe tbody tr th {\n",
       "        vertical-align: top;\n",
       "    }\n",
       "\n",
       "    .dataframe thead th {\n",
       "        text-align: right;\n",
       "    }\n",
       "</style>\n",
       "<table border=\"1\" class=\"dataframe\">\n",
       "  <thead>\n",
       "    <tr style=\"text-align: right;\">\n",
       "      <th></th>\n",
       "      <th>Buying_Time</th>\n",
       "      <th>Depart_Time</th>\n",
       "      <th>Arrival_Time</th>\n",
       "      <th>Airline</th>\n",
       "      <th>Ticket_Refunded</th>\n",
       "      <th>Bag_Weight</th>\n",
       "      <th>Bag_Pieces</th>\n",
       "      <th>Days_to_Depart</th>\n",
       "      <th>hrs_to_Depart</th>\n",
       "      <th>min_to_Depart</th>\n",
       "    </tr>\n",
       "  </thead>\n",
       "  <tbody>\n",
       "    <tr>\n",
       "      <th>0</th>\n",
       "      <td>2021-09-01 08:30:19.320999+00:00</td>\n",
       "      <td>2021-09-08 11:00:00+00:00</td>\n",
       "      <td>2021-09-08 12:55:00+00:00</td>\n",
       "      <td>beta</td>\n",
       "      <td>True</td>\n",
       "      <td>40</td>\n",
       "      <td>0</td>\n",
       "      <td>14</td>\n",
       "      <td>16</td>\n",
       "      <td>16</td>\n",
       "    </tr>\n",
       "    <tr>\n",
       "      <th>1</th>\n",
       "      <td>2021-09-01 08:30:19.320999+00:00</td>\n",
       "      <td>2021-09-08 14:00:00+00:00</td>\n",
       "      <td>2021-09-08 15:55:00+00:00</td>\n",
       "      <td>beta</td>\n",
       "      <td>True</td>\n",
       "      <td>40</td>\n",
       "      <td>0</td>\n",
       "      <td>0</td>\n",
       "      <td>8</td>\n",
       "      <td>14</td>\n",
       "    </tr>\n",
       "    <tr>\n",
       "      <th>2</th>\n",
       "      <td>2021-09-01 08:30:19.320999+00:00</td>\n",
       "      <td>2021-09-08 05:00:00+00:00</td>\n",
       "      <td>2021-09-08 06:55:00+00:00</td>\n",
       "      <td>beta</td>\n",
       "      <td>True</td>\n",
       "      <td>20</td>\n",
       "      <td>0</td>\n",
       "      <td>35</td>\n",
       "      <td>2</td>\n",
       "      <td>31</td>\n",
       "    </tr>\n",
       "    <tr>\n",
       "      <th>3</th>\n",
       "      <td>2021-09-01 08:30:20.396761+00:00</td>\n",
       "      <td>2021-09-08 05:30:00+00:00</td>\n",
       "      <td>2021-09-08 07:30:00+00:00</td>\n",
       "      <td>gamma</td>\n",
       "      <td>True</td>\n",
       "      <td>20</td>\n",
       "      <td>2</td>\n",
       "      <td>4</td>\n",
       "      <td>4</td>\n",
       "      <td>50</td>\n",
       "    </tr>\n",
       "    <tr>\n",
       "      <th>4</th>\n",
       "      <td>2021-09-01 08:30:20.396761+00:00</td>\n",
       "      <td>2021-09-08 05:30:00+00:00</td>\n",
       "      <td>2021-09-08 07:30:00+00:00</td>\n",
       "      <td>gamma</td>\n",
       "      <td>True</td>\n",
       "      <td>20</td>\n",
       "      <td>1</td>\n",
       "      <td>24</td>\n",
       "      <td>19</td>\n",
       "      <td>6</td>\n",
       "    </tr>\n",
       "  </tbody>\n",
       "</table>\n",
       "</div>"
      ],
      "text/plain": [
       "                       Buying_Time               Depart_Time  \\\n",
       "0 2021-09-01 08:30:19.320999+00:00 2021-09-08 11:00:00+00:00   \n",
       "1 2021-09-01 08:30:19.320999+00:00 2021-09-08 14:00:00+00:00   \n",
       "2 2021-09-01 08:30:19.320999+00:00 2021-09-08 05:00:00+00:00   \n",
       "3 2021-09-01 08:30:20.396761+00:00 2021-09-08 05:30:00+00:00   \n",
       "4 2021-09-01 08:30:20.396761+00:00 2021-09-08 05:30:00+00:00   \n",
       "\n",
       "               Arrival_Time Airline  Ticket_Refunded  Bag_Weight  Bag_Pieces  \\\n",
       "0 2021-09-08 12:55:00+00:00    beta             True          40           0   \n",
       "1 2021-09-08 15:55:00+00:00    beta             True          40           0   \n",
       "2 2021-09-08 06:55:00+00:00    beta             True          20           0   \n",
       "3 2021-09-08 07:30:00+00:00   gamma             True          20           2   \n",
       "4 2021-09-08 07:30:00+00:00   gamma             True          20           1   \n",
       "\n",
       "   Days_to_Depart  hrs_to_Depart  min_to_Depart  \n",
       "0              14             16             16  \n",
       "1               0              8             14  \n",
       "2              35              2             31  \n",
       "3               4              4             50  \n",
       "4              24             19              6  "
      ]
     },
     "execution_count": 31,
     "metadata": {},
     "output_type": "execute_result"
    }
   ],
   "source": [
    "df1.head()"
   ]
  },
  {
   "cell_type": "markdown",
   "metadata": {},
   "source": [
    "#### Step 9. Removal of the unuseful columns"
   ]
  },
  {
   "cell_type": "code",
   "execution_count": 32,
   "metadata": {},
   "outputs": [],
   "source": [
    "df.drop(['Buying_Time','Depart_Time','Arrival_Time'],axis=1,inplace=True) \n",
    "\n",
    "df1.drop(['Buying_Time','Depart_Time','Arrival_Time'],axis=1,inplace=True) "
   ]
  },
  {
   "cell_type": "code",
   "execution_count": 33,
   "metadata": {},
   "outputs": [
    {
     "data": {
      "text/html": [
       "<div>\n",
       "<style scoped>\n",
       "    .dataframe tbody tr th:only-of-type {\n",
       "        vertical-align: middle;\n",
       "    }\n",
       "\n",
       "    .dataframe tbody tr th {\n",
       "        vertical-align: top;\n",
       "    }\n",
       "\n",
       "    .dataframe thead th {\n",
       "        text-align: right;\n",
       "    }\n",
       "</style>\n",
       "<table border=\"1\" class=\"dataframe\">\n",
       "  <thead>\n",
       "    <tr style=\"text-align: right;\">\n",
       "      <th></th>\n",
       "      <th>Airline</th>\n",
       "      <th>Ticket_Refunded</th>\n",
       "      <th>Bag_Weight</th>\n",
       "      <th>Bag_Pieces</th>\n",
       "      <th>Days_to_Depart</th>\n",
       "      <th>hrs_to_Depart</th>\n",
       "      <th>min_to_Depart</th>\n",
       "    </tr>\n",
       "  </thead>\n",
       "  <tbody>\n",
       "    <tr>\n",
       "      <th>0</th>\n",
       "      <td>beta</td>\n",
       "      <td>True</td>\n",
       "      <td>40</td>\n",
       "      <td>0</td>\n",
       "      <td>14</td>\n",
       "      <td>16</td>\n",
       "      <td>16</td>\n",
       "    </tr>\n",
       "    <tr>\n",
       "      <th>1</th>\n",
       "      <td>beta</td>\n",
       "      <td>True</td>\n",
       "      <td>40</td>\n",
       "      <td>0</td>\n",
       "      <td>0</td>\n",
       "      <td>8</td>\n",
       "      <td>14</td>\n",
       "    </tr>\n",
       "    <tr>\n",
       "      <th>2</th>\n",
       "      <td>beta</td>\n",
       "      <td>True</td>\n",
       "      <td>20</td>\n",
       "      <td>0</td>\n",
       "      <td>35</td>\n",
       "      <td>2</td>\n",
       "      <td>31</td>\n",
       "    </tr>\n",
       "    <tr>\n",
       "      <th>3</th>\n",
       "      <td>gamma</td>\n",
       "      <td>True</td>\n",
       "      <td>20</td>\n",
       "      <td>2</td>\n",
       "      <td>4</td>\n",
       "      <td>4</td>\n",
       "      <td>50</td>\n",
       "    </tr>\n",
       "    <tr>\n",
       "      <th>4</th>\n",
       "      <td>gamma</td>\n",
       "      <td>True</td>\n",
       "      <td>20</td>\n",
       "      <td>1</td>\n",
       "      <td>24</td>\n",
       "      <td>19</td>\n",
       "      <td>6</td>\n",
       "    </tr>\n",
       "  </tbody>\n",
       "</table>\n",
       "</div>"
      ],
      "text/plain": [
       "  Airline  Ticket_Refunded  Bag_Weight  Bag_Pieces  Days_to_Depart  \\\n",
       "0    beta             True          40           0              14   \n",
       "1    beta             True          40           0               0   \n",
       "2    beta             True          20           0              35   \n",
       "3   gamma             True          20           2               4   \n",
       "4   gamma             True          20           1              24   \n",
       "\n",
       "   hrs_to_Depart  min_to_Depart  \n",
       "0             16             16  \n",
       "1              8             14  \n",
       "2              2             31  \n",
       "3              4             50  \n",
       "4             19              6  "
      ]
     },
     "execution_count": 33,
     "metadata": {},
     "output_type": "execute_result"
    }
   ],
   "source": [
    "df1.head()"
   ]
  },
  {
   "cell_type": "code",
   "execution_count": 34,
   "metadata": {},
   "outputs": [
    {
     "data": {
      "text/html": [
       "<div>\n",
       "<style scoped>\n",
       "    .dataframe tbody tr th:only-of-type {\n",
       "        vertical-align: middle;\n",
       "    }\n",
       "\n",
       "    .dataframe tbody tr th {\n",
       "        vertical-align: top;\n",
       "    }\n",
       "\n",
       "    .dataframe thead th {\n",
       "        text-align: right;\n",
       "    }\n",
       "</style>\n",
       "<table border=\"1\" class=\"dataframe\">\n",
       "  <thead>\n",
       "    <tr style=\"text-align: right;\">\n",
       "      <th></th>\n",
       "      <th>Unnamed: 0.1</th>\n",
       "      <th>Airline</th>\n",
       "      <th>Ticket_Refunded</th>\n",
       "      <th>Bag_Weight</th>\n",
       "      <th>Bag_Pieces</th>\n",
       "      <th>Fare</th>\n",
       "      <th>Days_to_Depart</th>\n",
       "      <th>hrs_to_Depart</th>\n",
       "      <th>min_to_Depart</th>\n",
       "    </tr>\n",
       "  </thead>\n",
       "  <tbody>\n",
       "    <tr>\n",
       "      <th>0</th>\n",
       "      <td>276919</td>\n",
       "      <td>gamma</td>\n",
       "      <td>True</td>\n",
       "      <td>0.0</td>\n",
       "      <td>0</td>\n",
       "      <td>7400.0</td>\n",
       "      <td>14</td>\n",
       "      <td>16</td>\n",
       "      <td>16</td>\n",
       "    </tr>\n",
       "    <tr>\n",
       "      <th>1</th>\n",
       "      <td>12092463</td>\n",
       "      <td>alpha</td>\n",
       "      <td>True</td>\n",
       "      <td>35.0</td>\n",
       "      <td>1</td>\n",
       "      <td>15377.0</td>\n",
       "      <td>0</td>\n",
       "      <td>8</td>\n",
       "      <td>14</td>\n",
       "    </tr>\n",
       "    <tr>\n",
       "      <th>2</th>\n",
       "      <td>11061788</td>\n",
       "      <td>gamma</td>\n",
       "      <td>True</td>\n",
       "      <td>20.0</td>\n",
       "      <td>1</td>\n",
       "      <td>6900.0</td>\n",
       "      <td>35</td>\n",
       "      <td>2</td>\n",
       "      <td>31</td>\n",
       "    </tr>\n",
       "    <tr>\n",
       "      <th>3</th>\n",
       "      <td>8799808</td>\n",
       "      <td>alpha</td>\n",
       "      <td>True</td>\n",
       "      <td>15.0</td>\n",
       "      <td>1</td>\n",
       "      <td>9707.0</td>\n",
       "      <td>4</td>\n",
       "      <td>4</td>\n",
       "      <td>50</td>\n",
       "    </tr>\n",
       "    <tr>\n",
       "      <th>4</th>\n",
       "      <td>16391150</td>\n",
       "      <td>beta</td>\n",
       "      <td>True</td>\n",
       "      <td>20.0</td>\n",
       "      <td>0</td>\n",
       "      <td>6500.0</td>\n",
       "      <td>24</td>\n",
       "      <td>19</td>\n",
       "      <td>6</td>\n",
       "    </tr>\n",
       "  </tbody>\n",
       "</table>\n",
       "</div>"
      ],
      "text/plain": [
       "   Unnamed: 0.1 Airline  Ticket_Refunded  Bag_Weight  Bag_Pieces     Fare  \\\n",
       "0        276919   gamma             True         0.0           0   7400.0   \n",
       "1      12092463   alpha             True        35.0           1  15377.0   \n",
       "2      11061788   gamma             True        20.0           1   6900.0   \n",
       "3       8799808   alpha             True        15.0           1   9707.0   \n",
       "4      16391150    beta             True        20.0           0   6500.0   \n",
       "\n",
       "   Days_to_Depart  hrs_to_Depart  min_to_Depart  \n",
       "0              14             16             16  \n",
       "1               0              8             14  \n",
       "2              35              2             31  \n",
       "3               4              4             50  \n",
       "4              24             19              6  "
      ]
     },
     "execution_count": 34,
     "metadata": {},
     "output_type": "execute_result"
    }
   ],
   "source": [
    "df.head(\n",
    ")"
   ]
  },
  {
   "cell_type": "markdown",
   "metadata": {},
   "source": [
    "### Statistical Analysis of the data"
   ]
  },
  {
   "cell_type": "markdown",
   "metadata": {},
   "source": [
    "#### Step 1. Checking the missing values"
   ]
  },
  {
   "cell_type": "code",
   "execution_count": 35,
   "metadata": {},
   "outputs": [
    {
     "data": {
      "text/plain": [
       "Unnamed: 0.1       0\n",
       "Airline            0\n",
       "Ticket_Refunded    0\n",
       "Bag_Weight         0\n",
       "Bag_Pieces         0\n",
       "Fare               0\n",
       "Days_to_Depart     0\n",
       "hrs_to_Depart      0\n",
       "min_to_Depart      0\n",
       "dtype: int64"
      ]
     },
     "execution_count": 35,
     "metadata": {},
     "output_type": "execute_result"
    }
   ],
   "source": [
    "df.isnull().sum()"
   ]
  },
  {
   "cell_type": "code",
   "execution_count": 36,
   "metadata": {},
   "outputs": [
    {
     "data": {
      "text/html": [
       "<div>\n",
       "<style scoped>\n",
       "    .dataframe tbody tr th:only-of-type {\n",
       "        vertical-align: middle;\n",
       "    }\n",
       "\n",
       "    .dataframe tbody tr th {\n",
       "        vertical-align: top;\n",
       "    }\n",
       "\n",
       "    .dataframe thead th {\n",
       "        text-align: right;\n",
       "    }\n",
       "</style>\n",
       "<table border=\"1\" class=\"dataframe\">\n",
       "  <thead>\n",
       "    <tr style=\"text-align: right;\">\n",
       "      <th></th>\n",
       "      <th>Unnamed: 0.1</th>\n",
       "      <th>Airline</th>\n",
       "      <th>Ticket_Refunded</th>\n",
       "      <th>Bag_Weight</th>\n",
       "      <th>Bag_Pieces</th>\n",
       "      <th>Fare</th>\n",
       "      <th>Days_to_Depart</th>\n",
       "      <th>hrs_to_Depart</th>\n",
       "      <th>min_to_Depart</th>\n",
       "    </tr>\n",
       "  </thead>\n",
       "  <tbody>\n",
       "    <tr>\n",
       "      <th>count</th>\n",
       "      <td>5.000000e+03</td>\n",
       "      <td>5000</td>\n",
       "      <td>5000</td>\n",
       "      <td>5000.000000</td>\n",
       "      <td>5000.000000</td>\n",
       "      <td>5000.000000</td>\n",
       "      <td>5000.000000</td>\n",
       "      <td>5000.000000</td>\n",
       "      <td>5000.000000</td>\n",
       "    </tr>\n",
       "    <tr>\n",
       "      <th>unique</th>\n",
       "      <td>NaN</td>\n",
       "      <td>4</td>\n",
       "      <td>2</td>\n",
       "      <td>NaN</td>\n",
       "      <td>NaN</td>\n",
       "      <td>NaN</td>\n",
       "      <td>NaN</td>\n",
       "      <td>NaN</td>\n",
       "      <td>NaN</td>\n",
       "    </tr>\n",
       "    <tr>\n",
       "      <th>top</th>\n",
       "      <td>NaN</td>\n",
       "      <td>alpha</td>\n",
       "      <td>True</td>\n",
       "      <td>NaN</td>\n",
       "      <td>NaN</td>\n",
       "      <td>NaN</td>\n",
       "      <td>NaN</td>\n",
       "      <td>NaN</td>\n",
       "      <td>NaN</td>\n",
       "    </tr>\n",
       "    <tr>\n",
       "      <th>freq</th>\n",
       "      <td>NaN</td>\n",
       "      <td>2226</td>\n",
       "      <td>4964</td>\n",
       "      <td>NaN</td>\n",
       "      <td>NaN</td>\n",
       "      <td>NaN</td>\n",
       "      <td>NaN</td>\n",
       "      <td>NaN</td>\n",
       "      <td>NaN</td>\n",
       "    </tr>\n",
       "    <tr>\n",
       "      <th>mean</th>\n",
       "      <td>1.086293e+07</td>\n",
       "      <td>NaN</td>\n",
       "      <td>NaN</td>\n",
       "      <td>22.494400</td>\n",
       "      <td>0.944600</td>\n",
       "      <td>10104.351800</td>\n",
       "      <td>15.098200</td>\n",
       "      <td>11.925800</td>\n",
       "      <td>29.422200</td>\n",
       "    </tr>\n",
       "    <tr>\n",
       "      <th>std</th>\n",
       "      <td>6.275456e+06</td>\n",
       "      <td>NaN</td>\n",
       "      <td>NaN</td>\n",
       "      <td>8.887101</td>\n",
       "      <td>0.607951</td>\n",
       "      <td>3359.936118</td>\n",
       "      <td>19.433334</td>\n",
       "      <td>7.355156</td>\n",
       "      <td>17.485385</td>\n",
       "    </tr>\n",
       "    <tr>\n",
       "      <th>min</th>\n",
       "      <td>2.499000e+03</td>\n",
       "      <td>NaN</td>\n",
       "      <td>NaN</td>\n",
       "      <td>0.000000</td>\n",
       "      <td>0.000000</td>\n",
       "      <td>4990.000000</td>\n",
       "      <td>0.000000</td>\n",
       "      <td>0.000000</td>\n",
       "      <td>0.000000</td>\n",
       "    </tr>\n",
       "    <tr>\n",
       "      <th>25%</th>\n",
       "      <td>5.417290e+06</td>\n",
       "      <td>NaN</td>\n",
       "      <td>NaN</td>\n",
       "      <td>20.000000</td>\n",
       "      <td>1.000000</td>\n",
       "      <td>7796.000000</td>\n",
       "      <td>4.000000</td>\n",
       "      <td>5.000000</td>\n",
       "      <td>14.000000</td>\n",
       "    </tr>\n",
       "    <tr>\n",
       "      <th>50%</th>\n",
       "      <td>1.093803e+07</td>\n",
       "      <td>NaN</td>\n",
       "      <td>NaN</td>\n",
       "      <td>20.000000</td>\n",
       "      <td>1.000000</td>\n",
       "      <td>9403.000000</td>\n",
       "      <td>9.000000</td>\n",
       "      <td>12.000000</td>\n",
       "      <td>30.000000</td>\n",
       "    </tr>\n",
       "    <tr>\n",
       "      <th>75%</th>\n",
       "      <td>1.621582e+07</td>\n",
       "      <td>NaN</td>\n",
       "      <td>NaN</td>\n",
       "      <td>32.000000</td>\n",
       "      <td>1.000000</td>\n",
       "      <td>11245.000000</td>\n",
       "      <td>19.000000</td>\n",
       "      <td>19.000000</td>\n",
       "      <td>45.000000</td>\n",
       "    </tr>\n",
       "    <tr>\n",
       "      <th>max</th>\n",
       "      <td>2.177443e+07</td>\n",
       "      <td>NaN</td>\n",
       "      <td>NaN</td>\n",
       "      <td>45.000000</td>\n",
       "      <td>2.000000</td>\n",
       "      <td>33720.000000</td>\n",
       "      <td>221.000000</td>\n",
       "      <td>23.000000</td>\n",
       "      <td>59.000000</td>\n",
       "    </tr>\n",
       "  </tbody>\n",
       "</table>\n",
       "</div>"
      ],
      "text/plain": [
       "        Unnamed: 0.1 Airline Ticket_Refunded   Bag_Weight   Bag_Pieces  \\\n",
       "count   5.000000e+03    5000            5000  5000.000000  5000.000000   \n",
       "unique           NaN       4               2          NaN          NaN   \n",
       "top              NaN   alpha            True          NaN          NaN   \n",
       "freq             NaN    2226            4964          NaN          NaN   \n",
       "mean    1.086293e+07     NaN             NaN    22.494400     0.944600   \n",
       "std     6.275456e+06     NaN             NaN     8.887101     0.607951   \n",
       "min     2.499000e+03     NaN             NaN     0.000000     0.000000   \n",
       "25%     5.417290e+06     NaN             NaN    20.000000     1.000000   \n",
       "50%     1.093803e+07     NaN             NaN    20.000000     1.000000   \n",
       "75%     1.621582e+07     NaN             NaN    32.000000     1.000000   \n",
       "max     2.177443e+07     NaN             NaN    45.000000     2.000000   \n",
       "\n",
       "                Fare  Days_to_Depart  hrs_to_Depart  min_to_Depart  \n",
       "count    5000.000000     5000.000000    5000.000000    5000.000000  \n",
       "unique           NaN             NaN            NaN            NaN  \n",
       "top              NaN             NaN            NaN            NaN  \n",
       "freq             NaN             NaN            NaN            NaN  \n",
       "mean    10104.351800       15.098200      11.925800      29.422200  \n",
       "std      3359.936118       19.433334       7.355156      17.485385  \n",
       "min      4990.000000        0.000000       0.000000       0.000000  \n",
       "25%      7796.000000        4.000000       5.000000      14.000000  \n",
       "50%      9403.000000        9.000000      12.000000      30.000000  \n",
       "75%     11245.000000       19.000000      19.000000      45.000000  \n",
       "max     33720.000000      221.000000      23.000000      59.000000  "
      ]
     },
     "execution_count": 36,
     "metadata": {},
     "output_type": "execute_result"
    }
   ],
   "source": [
    "df.describe(include='all')"
   ]
  },
  {
   "cell_type": "markdown",
   "metadata": {},
   "source": [
    "#### Step 2. Dropping the duplicates values\n"
   ]
  },
  {
   "cell_type": "code",
   "execution_count": 37,
   "metadata": {},
   "outputs": [],
   "source": [
    "df.drop_duplicates(keep=False,inplace=True)"
   ]
  },
  {
   "cell_type": "code",
   "execution_count": 38,
   "metadata": {},
   "outputs": [
    {
     "data": {
      "text/html": [
       "<div>\n",
       "<style scoped>\n",
       "    .dataframe tbody tr th:only-of-type {\n",
       "        vertical-align: middle;\n",
       "    }\n",
       "\n",
       "    .dataframe tbody tr th {\n",
       "        vertical-align: top;\n",
       "    }\n",
       "\n",
       "    .dataframe thead th {\n",
       "        text-align: right;\n",
       "    }\n",
       "</style>\n",
       "<table border=\"1\" class=\"dataframe\">\n",
       "  <thead>\n",
       "    <tr style=\"text-align: right;\">\n",
       "      <th></th>\n",
       "      <th>Unnamed: 0.1</th>\n",
       "      <th>Airline</th>\n",
       "      <th>Ticket_Refunded</th>\n",
       "      <th>Bag_Weight</th>\n",
       "      <th>Bag_Pieces</th>\n",
       "      <th>Fare</th>\n",
       "      <th>Days_to_Depart</th>\n",
       "      <th>hrs_to_Depart</th>\n",
       "      <th>min_to_Depart</th>\n",
       "    </tr>\n",
       "  </thead>\n",
       "  <tbody>\n",
       "    <tr>\n",
       "      <th>0</th>\n",
       "      <td>276919</td>\n",
       "      <td>gamma</td>\n",
       "      <td>True</td>\n",
       "      <td>0.0</td>\n",
       "      <td>0</td>\n",
       "      <td>7400.0</td>\n",
       "      <td>14</td>\n",
       "      <td>16</td>\n",
       "      <td>16</td>\n",
       "    </tr>\n",
       "    <tr>\n",
       "      <th>1</th>\n",
       "      <td>12092463</td>\n",
       "      <td>alpha</td>\n",
       "      <td>True</td>\n",
       "      <td>35.0</td>\n",
       "      <td>1</td>\n",
       "      <td>15377.0</td>\n",
       "      <td>0</td>\n",
       "      <td>8</td>\n",
       "      <td>14</td>\n",
       "    </tr>\n",
       "    <tr>\n",
       "      <th>2</th>\n",
       "      <td>11061788</td>\n",
       "      <td>gamma</td>\n",
       "      <td>True</td>\n",
       "      <td>20.0</td>\n",
       "      <td>1</td>\n",
       "      <td>6900.0</td>\n",
       "      <td>35</td>\n",
       "      <td>2</td>\n",
       "      <td>31</td>\n",
       "    </tr>\n",
       "    <tr>\n",
       "      <th>3</th>\n",
       "      <td>8799808</td>\n",
       "      <td>alpha</td>\n",
       "      <td>True</td>\n",
       "      <td>15.0</td>\n",
       "      <td>1</td>\n",
       "      <td>9707.0</td>\n",
       "      <td>4</td>\n",
       "      <td>4</td>\n",
       "      <td>50</td>\n",
       "    </tr>\n",
       "    <tr>\n",
       "      <th>4</th>\n",
       "      <td>16391150</td>\n",
       "      <td>beta</td>\n",
       "      <td>True</td>\n",
       "      <td>20.0</td>\n",
       "      <td>0</td>\n",
       "      <td>6500.0</td>\n",
       "      <td>24</td>\n",
       "      <td>19</td>\n",
       "      <td>6</td>\n",
       "    </tr>\n",
       "  </tbody>\n",
       "</table>\n",
       "</div>"
      ],
      "text/plain": [
       "   Unnamed: 0.1 Airline  Ticket_Refunded  Bag_Weight  Bag_Pieces     Fare  \\\n",
       "0        276919   gamma             True         0.0           0   7400.0   \n",
       "1      12092463   alpha             True        35.0           1  15377.0   \n",
       "2      11061788   gamma             True        20.0           1   6900.0   \n",
       "3       8799808   alpha             True        15.0           1   9707.0   \n",
       "4      16391150    beta             True        20.0           0   6500.0   \n",
       "\n",
       "   Days_to_Depart  hrs_to_Depart  min_to_Depart  \n",
       "0              14             16             16  \n",
       "1               0              8             14  \n",
       "2              35              2             31  \n",
       "3               4              4             50  \n",
       "4              24             19              6  "
      ]
     },
     "execution_count": 38,
     "metadata": {},
     "output_type": "execute_result"
    }
   ],
   "source": [
    "df.head()"
   ]
  },
  {
   "cell_type": "markdown",
   "metadata": {},
   "source": [
    "#### Step 3. Making list of Categorical Column and Numerical Ones"
   ]
  },
  {
   "cell_type": "code",
   "execution_count": 39,
   "metadata": {},
   "outputs": [],
   "source": [
    "cat_cols1= ['Airline','Ticket_Refunded','Bag_Weight','Bag_Pieces']\n",
    "num_cols1= ['Days_to_Depart','hrs_to_Depart','min_to_Depart']"
   ]
  },
  {
   "cell_type": "markdown",
   "metadata": {},
   "source": [
    "#### Step 4. Plotting "
   ]
  },
  {
   "cell_type": "code",
   "execution_count": 40,
   "metadata": {},
   "outputs": [
    {
     "name": "stderr",
     "output_type": "stream",
     "text": [
      "/Users/h/opt/anaconda3/lib/python3.9/site-packages/seaborn/_decorators.py:36: FutureWarning: Pass the following variable as a keyword arg: x. From version 0.12, the only valid positional argument will be `data`, and passing other arguments without an explicit keyword will result in an error or misinterpretation.\n",
      "  warnings.warn(\n",
      "/Users/h/opt/anaconda3/lib/python3.9/site-packages/seaborn/_decorators.py:36: FutureWarning: Pass the following variable as a keyword arg: x. From version 0.12, the only valid positional argument will be `data`, and passing other arguments without an explicit keyword will result in an error or misinterpretation.\n",
      "  warnings.warn(\n",
      "/Users/h/opt/anaconda3/lib/python3.9/site-packages/seaborn/_decorators.py:36: FutureWarning: Pass the following variable as a keyword arg: x. From version 0.12, the only valid positional argument will be `data`, and passing other arguments without an explicit keyword will result in an error or misinterpretation.\n",
      "  warnings.warn(\n",
      "/Users/h/opt/anaconda3/lib/python3.9/site-packages/seaborn/_decorators.py:36: FutureWarning: Pass the following variable as a keyword arg: x. From version 0.12, the only valid positional argument will be `data`, and passing other arguments without an explicit keyword will result in an error or misinterpretation.\n",
      "  warnings.warn(\n"
     ]
    },
    {
     "data": {
      "image/png": "[encoded data removed]",
      "text/plain": [
       "<Figure size 1080x2880 with 4 Axes>"
      ]
     },
     "metadata": {
      "needs_background": "light"
     },
     "output_type": "display_data"
    }
   ],
   "source": [
    "# Plotting of Categorical Columns\n",
    "\n",
    "import matplotlib.pyplot as plt\n",
    "plt.figure (figsize=(15,40)) # Categorical Count Plotting\n",
    "c=1\n",
    "for i in cat_cols:\n",
    "    plt.subplot(6,3,c)\n",
    "    sns.countplot(df[i])\n",
    "    c=c+1\n",
    "plt.show()"
   ]
  },
  {
   "cell_type": "markdown",
   "metadata": {},
   "source": [
    "**Insights from above plots - Results**\n",
    "\n",
    "1. Alpha has higher number of flights used by customers\n",
    "2. People Mostly Buy Tickets which are Refund-able\n",
    "3. Most Passengers have 1 piece of Bag and the avg weight is 20.\n"
   ]
  },
  {
   "cell_type": "code",
   "execution_count": 41,
   "metadata": {},
   "outputs": [
    {
     "name": "stderr",
     "output_type": "stream",
     "text": [
      "/Users/h/opt/anaconda3/lib/python3.9/site-packages/seaborn/distributions.py:2619: FutureWarning: `distplot` is a deprecated function and will be removed in a future version. Please adapt your code to use either `displot` (a figure-level function with similar flexibility) or `histplot` (an axes-level function for histograms).\n",
      "  warnings.warn(msg, FutureWarning)\n",
      "/Users/h/opt/anaconda3/lib/python3.9/site-packages/seaborn/distributions.py:2619: FutureWarning: `distplot` is a deprecated function and will be removed in a future version. Please adapt your code to use either `displot` (a figure-level function with similar flexibility) or `histplot` (an axes-level function for histograms).\n",
      "  warnings.warn(msg, FutureWarning)\n",
      "/Users/h/opt/anaconda3/lib/python3.9/site-packages/seaborn/distributions.py:2619: FutureWarning: `distplot` is a deprecated function and will be removed in a future version. Please adapt your code to use either `displot` (a figure-level function with similar flexibility) or `histplot` (an axes-level function for histograms).\n",
      "  warnings.warn(msg, FutureWarning)\n"
     ]
    },
    {
     "data": {
      "image/png": "[encoded data removed]",
      "text/plain": [
       "<Figure size 720x2520 with 3 Axes>"
      ]
     },
     "metadata": {
      "needs_background": "light"
     },
     "output_type": "display_data"
    }
   ],
   "source": [
    "# Plotting of the Numerical Columns\n",
    "\n",
    "\n",
    "plt.figure (figsize=(10,35)) # Numerical Count Plotting\n",
    "c=1\n",
    "for i in num_cols1:\n",
    "    plt.subplot(6,2,c)\n",
    "    sns.distplot(df[i])\n",
    "    c=c+1\n",
    "plt.show()"
   ]
  },
  {
   "cell_type": "code",
   "execution_count": 42,
   "metadata": {},
   "outputs": [
    {
     "name": "stderr",
     "output_type": "stream",
     "text": [
      "/Users/h/opt/anaconda3/lib/python3.9/site-packages/seaborn/distributions.py:2619: FutureWarning: `distplot` is a deprecated function and will be removed in a future version. Please adapt your code to use either `displot` (a figure-level function with similar flexibility) or `histplot` (an axes-level function for histograms).\n",
      "  warnings.warn(msg, FutureWarning)\n"
     ]
    },
    {
     "data": {
      "text/plain": [
       "<AxesSubplot:xlabel='Fare', ylabel='Density'>"
      ]
     },
     "execution_count": 42,
     "metadata": {},
     "output_type": "execute_result"
    },
    {
     "data": {
      "image/png": "[encoded data removed]",
      "text/plain": [
       "<Figure size 432x288 with 1 Axes>"
      ]
     },
     "metadata": {
      "needs_background": "light"
     },
     "output_type": "display_data"
    }
   ],
   "source": [
    "sns.distplot(df['Fare'])"
   ]
  },
  {
   "cell_type": "markdown",
   "metadata": {},
   "source": [
    "**Result: Right skewed graph of the Fare**"
   ]
  },
  {
   "cell_type": "markdown",
   "metadata": {},
   "source": [
    "#### Step 5. Normality test of the Fare data"
   ]
  },
  {
   "cell_type": "code",
   "execution_count": 43,
   "metadata": {},
   "outputs": [
    {
     "name": "stdout",
     "output_type": "stream",
     "text": [
      "stat = 0.830 , p-value=0.000\n",
      "H0: Probably NO Gaussian or Normal distribution\n"
     ]
    }
   ],
   "source": [
    "# Importing Library\n",
    "from scipy.stats import shapiro\n",
    "\n",
    "# Normality test of the Fare data using Shapiro test\n",
    "\n",
    "stat, p = shapiro(df['Fare'])\n",
    "print (\"stat = %.3f , p-value=%.3f\" %(stat,p))\n",
    "if p > 0.05:\n",
    "    print('H1: Probably Gaussian or Normal distribution')\n",
    "else:\n",
    "    print('H0: Probably NO Gaussian or Normal distribution')"
   ]
  },
  {
   "cell_type": "markdown",
   "metadata": {},
   "source": [
    "**Data is not normal and so we are going to use any of the easy method to normalize it here**"
   ]
  },
  {
   "cell_type": "markdown",
   "metadata": {},
   "source": [
    "#### Step 6. Normalization of the Using Log Method"
   ]
  },
  {
   "cell_type": "code",
   "execution_count": 44,
   "metadata": {},
   "outputs": [
    {
     "data": {
      "text/html": [
       "<div>\n",
       "<style scoped>\n",
       "    .dataframe tbody tr th:only-of-type {\n",
       "        vertical-align: middle;\n",
       "    }\n",
       "\n",
       "    .dataframe tbody tr th {\n",
       "        vertical-align: top;\n",
       "    }\n",
       "\n",
       "    .dataframe thead th {\n",
       "        text-align: right;\n",
       "    }\n",
       "</style>\n",
       "<table border=\"1\" class=\"dataframe\">\n",
       "  <thead>\n",
       "    <tr style=\"text-align: right;\">\n",
       "      <th></th>\n",
       "      <th>Unnamed: 0.1</th>\n",
       "      <th>Airline</th>\n",
       "      <th>Ticket_Refunded</th>\n",
       "      <th>Bag_Weight</th>\n",
       "      <th>Bag_Pieces</th>\n",
       "      <th>Fare</th>\n",
       "      <th>Days_to_Depart</th>\n",
       "      <th>hrs_to_Depart</th>\n",
       "      <th>min_to_Depart</th>\n",
       "    </tr>\n",
       "  </thead>\n",
       "  <tbody>\n",
       "    <tr>\n",
       "      <th>0</th>\n",
       "      <td>276919</td>\n",
       "      <td>gamma</td>\n",
       "      <td>True</td>\n",
       "      <td>0.0</td>\n",
       "      <td>0</td>\n",
       "      <td>8.909235</td>\n",
       "      <td>14</td>\n",
       "      <td>16</td>\n",
       "      <td>16</td>\n",
       "    </tr>\n",
       "    <tr>\n",
       "      <th>1</th>\n",
       "      <td>12092463</td>\n",
       "      <td>alpha</td>\n",
       "      <td>True</td>\n",
       "      <td>35.0</td>\n",
       "      <td>1</td>\n",
       "      <td>9.640628</td>\n",
       "      <td>0</td>\n",
       "      <td>8</td>\n",
       "      <td>14</td>\n",
       "    </tr>\n",
       "    <tr>\n",
       "      <th>2</th>\n",
       "      <td>11061788</td>\n",
       "      <td>gamma</td>\n",
       "      <td>True</td>\n",
       "      <td>20.0</td>\n",
       "      <td>1</td>\n",
       "      <td>8.839277</td>\n",
       "      <td>35</td>\n",
       "      <td>2</td>\n",
       "      <td>31</td>\n",
       "    </tr>\n",
       "    <tr>\n",
       "      <th>3</th>\n",
       "      <td>8799808</td>\n",
       "      <td>alpha</td>\n",
       "      <td>True</td>\n",
       "      <td>15.0</td>\n",
       "      <td>1</td>\n",
       "      <td>9.180603</td>\n",
       "      <td>4</td>\n",
       "      <td>4</td>\n",
       "      <td>50</td>\n",
       "    </tr>\n",
       "    <tr>\n",
       "      <th>4</th>\n",
       "      <td>16391150</td>\n",
       "      <td>beta</td>\n",
       "      <td>True</td>\n",
       "      <td>20.0</td>\n",
       "      <td>0</td>\n",
       "      <td>8.779557</td>\n",
       "      <td>24</td>\n",
       "      <td>19</td>\n",
       "      <td>6</td>\n",
       "    </tr>\n",
       "  </tbody>\n",
       "</table>\n",
       "</div>"
      ],
      "text/plain": [
       "   Unnamed: 0.1 Airline  Ticket_Refunded  Bag_Weight  Bag_Pieces      Fare  \\\n",
       "0        276919   gamma             True         0.0           0  8.909235   \n",
       "1      12092463   alpha             True        35.0           1  9.640628   \n",
       "2      11061788   gamma             True        20.0           1  8.839277   \n",
       "3       8799808   alpha             True        15.0           1  9.180603   \n",
       "4      16391150    beta             True        20.0           0  8.779557   \n",
       "\n",
       "   Days_to_Depart  hrs_to_Depart  min_to_Depart  \n",
       "0              14             16             16  \n",
       "1               0              8             14  \n",
       "2              35              2             31  \n",
       "3               4              4             50  \n",
       "4              24             19              6  "
      ]
     },
     "execution_count": 44,
     "metadata": {},
     "output_type": "execute_result"
    }
   ],
   "source": [
    "df['Fare']=np.log(df['Fare'])\n",
    "# df['Days_to_Depart'] = (df['Days_to_Depart']-df['Days_to_Depart'].mean()) /df['Days_to_Depart'].std()\n",
    "# df['hrs_to_Depart']= (df['hrs_to_Depart']-df['hrs_to_Depart'].mean()) /df['hrs_to_Depart'].std()\n",
    "# df['Bag_Weight']= (df['Bag_Weight']-df['Bag_Weight'].mean()) /df['Bag_Weight'].std()\n",
    "# df['Fare'] = (df['Fare']-df['Fare'].mean()) / df['Fare'].std()\n",
    "# df['min_to_Depart']= (df['min_to_Depart']-df['min_to_Depart'].mean()) /df['min_to_Depart'].std()\n",
    "df.head(5)"
   ]
  },
  {
   "cell_type": "markdown",
   "metadata": {},
   "source": [
    "#### Step 7. Checking Outliers and removing them \n"
   ]
  },
  {
   "cell_type": "code",
   "execution_count": 45,
   "metadata": {},
   "outputs": [
    {
     "name": "stderr",
     "output_type": "stream",
     "text": [
      "/Users/h/opt/anaconda3/lib/python3.9/site-packages/seaborn/_decorators.py:36: FutureWarning: Pass the following variable as a keyword arg: x. From version 0.12, the only valid positional argument will be `data`, and passing other arguments without an explicit keyword will result in an error or misinterpretation.\n",
      "  warnings.warn(\n"
     ]
    },
    {
     "data": {
      "text/plain": [
       "<AxesSubplot:xlabel='Days_to_Depart'>"
      ]
     },
     "execution_count": 45,
     "metadata": {},
     "output_type": "execute_result"
    },
    {
     "data": {
      "image/png": "[encoded data removed]",
      "text/plain": [
       "<Figure size 432x288 with 1 Axes>"
      ]
     },
     "metadata": {
      "needs_background": "light"
     },
     "output_type": "display_data"
    }
   ],
   "source": [
    "sns.boxplot(df['Days_to_Depart'])"
   ]
  },
  {
   "cell_type": "code",
   "execution_count": 46,
   "metadata": {},
   "outputs": [],
   "source": [
    "df = df[df['Days_to_Depart'] < 50] "
   ]
  },
  {
   "cell_type": "code",
   "execution_count": 47,
   "metadata": {},
   "outputs": [
    {
     "name": "stderr",
     "output_type": "stream",
     "text": [
      "/Users/h/opt/anaconda3/lib/python3.9/site-packages/seaborn/_decorators.py:36: FutureWarning: Pass the following variable as a keyword arg: x. From version 0.12, the only valid positional argument will be `data`, and passing other arguments without an explicit keyword will result in an error or misinterpretation.\n",
      "  warnings.warn(\n"
     ]
    },
    {
     "data": {
      "text/plain": [
       "<AxesSubplot:xlabel='Days_to_Depart'>"
      ]
     },
     "execution_count": 47,
     "metadata": {},
     "output_type": "execute_result"
    },
    {
     "data": {
      "image/png": "[encoded data removed]",
      "text/plain": [
       "<Figure size 432x288 with 1 Axes>"
      ]
     },
     "metadata": {
      "needs_background": "light"
     },
     "output_type": "display_data"
    }
   ],
   "source": [
    "sns.boxplot(df['Days_to_Depart'])"
   ]
  },
  {
   "cell_type": "code",
   "execution_count": 48,
   "metadata": {},
   "outputs": [
    {
     "name": "stderr",
     "output_type": "stream",
     "text": [
      "/Users/h/opt/anaconda3/lib/python3.9/site-packages/seaborn/_decorators.py:36: FutureWarning: Pass the following variable as a keyword arg: x. From version 0.12, the only valid positional argument will be `data`, and passing other arguments without an explicit keyword will result in an error or misinterpretation.\n",
      "  warnings.warn(\n"
     ]
    },
    {
     "data": {
      "text/plain": [
       "<AxesSubplot:xlabel='Fare'>"
      ]
     },
     "execution_count": 48,
     "metadata": {},
     "output_type": "execute_result"
    },
    {
     "data": {
      "image/png": "[encoded data removed]",
      "text/plain": [
       "<Figure size 432x288 with 1 Axes>"
      ]
     },
     "metadata": {
      "needs_background": "light"
     },
     "output_type": "display_data"
    }
   ],
   "source": [
    "sns.boxplot(df['Fare'])"
   ]
  },
  {
   "cell_type": "code",
   "execution_count": 49,
   "metadata": {},
   "outputs": [],
   "source": [
    "df = df[df['Fare'] < 9.25] "
   ]
  },
  {
   "cell_type": "code",
   "execution_count": 50,
   "metadata": {},
   "outputs": [
    {
     "name": "stderr",
     "output_type": "stream",
     "text": [
      "/Users/h/opt/anaconda3/lib/python3.9/site-packages/seaborn/_decorators.py:36: FutureWarning: Pass the following variable as a keyword arg: x. From version 0.12, the only valid positional argument will be `data`, and passing other arguments without an explicit keyword will result in an error or misinterpretation.\n",
      "  warnings.warn(\n"
     ]
    },
    {
     "data": {
      "text/plain": [
       "<AxesSubplot:xlabel='Fare'>"
      ]
     },
     "execution_count": 50,
     "metadata": {},
     "output_type": "execute_result"
    },
    {
     "data": {
      "image/png": "[encoded data removed]",
      "text/plain": [
       "<Figure size 432x288 with 1 Axes>"
      ]
     },
     "metadata": {
      "needs_background": "light"
     },
     "output_type": "display_data"
    }
   ],
   "source": [
    "sns.boxplot(df['Fare'])"
   ]
  },
  {
   "cell_type": "code",
   "execution_count": 51,
   "metadata": {},
   "outputs": [
    {
     "name": "stderr",
     "output_type": "stream",
     "text": [
      "/Users/h/opt/anaconda3/lib/python3.9/site-packages/seaborn/_decorators.py:36: FutureWarning: Pass the following variable as a keyword arg: x. From version 0.12, the only valid positional argument will be `data`, and passing other arguments without an explicit keyword will result in an error or misinterpretation.\n",
      "  warnings.warn(\n"
     ]
    },
    {
     "data": {
      "text/plain": [
       "<AxesSubplot:xlabel='Bag_Weight'>"
      ]
     },
     "execution_count": 51,
     "metadata": {},
     "output_type": "execute_result"
    },
    {
     "data": {
      "image/png": "[encoded data removed]",
      "text/plain": [
       "<Figure size 432x288 with 1 Axes>"
      ]
     },
     "metadata": {
      "needs_background": "light"
     },
     "output_type": "display_data"
    }
   ],
   "source": [
    "sns.boxplot(df['Bag_Weight'])"
   ]
  },
  {
   "cell_type": "markdown",
   "metadata": {},
   "source": [
    "#### Step 8. Checking the Correlation in df"
   ]
  },
  {
   "cell_type": "code",
   "execution_count": 52,
   "metadata": {},
   "outputs": [
    {
     "data": {
      "text/html": [
       "<style type=\"text/css\">\n",
       "#T_b27d8_row0_col0, #T_b27d8_row1_col1, #T_b27d8_row2_col2, #T_b27d8_row3_col3, #T_b27d8_row4_col4, #T_b27d8_row5_col5, #T_b27d8_row6_col6, #T_b27d8_row7_col7 {\n",
       "  background-color: #b40426;\n",
       "  color: #f1f1f1;\n",
       "}\n",
       "#T_b27d8_row0_col1, #T_b27d8_row5_col4, #T_b27d8_row6_col4 {\n",
       "  background-color: #7093f3;\n",
       "  color: #f1f1f1;\n",
       "}\n",
       "#T_b27d8_row0_col2, #T_b27d8_row1_col6, #T_b27d8_row7_col3 {\n",
       "  background-color: #465ecf;\n",
       "  color: #f1f1f1;\n",
       "}\n",
       "#T_b27d8_row0_col3 {\n",
       "  background-color: #7699f6;\n",
       "  color: #f1f1f1;\n",
       "}\n",
       "#T_b27d8_row0_col4, #T_b27d8_row1_col7, #T_b27d8_row3_col5, #T_b27d8_row3_col6, #T_b27d8_row4_col0, #T_b27d8_row4_col1, #T_b27d8_row5_col3, #T_b27d8_row6_col2, #T_b27d8_row6_col3 {\n",
       "  background-color: #3b4cc0;\n",
       "  color: #f1f1f1;\n",
       "}\n",
       "#T_b27d8_row0_col5 {\n",
       "  background-color: #4961d2;\n",
       "  color: #f1f1f1;\n",
       "}\n",
       "#T_b27d8_row0_col6 {\n",
       "  background-color: #485fd1;\n",
       "  color: #f1f1f1;\n",
       "}\n",
       "#T_b27d8_row0_col7 {\n",
       "  background-color: #3f53c6;\n",
       "  color: #f1f1f1;\n",
       "}\n",
       "#T_b27d8_row1_col0 {\n",
       "  background-color: #96b7ff;\n",
       "  color: #000000;\n",
       "}\n",
       "#T_b27d8_row1_col2, #T_b27d8_row2_col6, #T_b27d8_row5_col7 {\n",
       "  background-color: #3c4ec2;\n",
       "  color: #f1f1f1;\n",
       "}\n",
       "#T_b27d8_row1_col3 {\n",
       "  background-color: #6b8df0;\n",
       "  color: #f1f1f1;\n",
       "}\n",
       "#T_b27d8_row1_col4 {\n",
       "  background-color: #6180e9;\n",
       "  color: #f1f1f1;\n",
       "}\n",
       "#T_b27d8_row1_col5, #T_b27d8_row4_col6 {\n",
       "  background-color: #455cce;\n",
       "  color: #f1f1f1;\n",
       "}\n",
       "#T_b27d8_row2_col0, #T_b27d8_row6_col0 {\n",
       "  background-color: #7396f5;\n",
       "  color: #f1f1f1;\n",
       "}\n",
       "#T_b27d8_row2_col1, #T_b27d8_row6_col7 {\n",
       "  background-color: #4358cb;\n",
       "  color: #f1f1f1;\n",
       "}\n",
       "#T_b27d8_row2_col3 {\n",
       "  background-color: #3e51c5;\n",
       "  color: #f1f1f1;\n",
       "}\n",
       "#T_b27d8_row2_col4 {\n",
       "  background-color: #85a8fc;\n",
       "  color: #f1f1f1;\n",
       "}\n",
       "#T_b27d8_row2_col5 {\n",
       "  background-color: #5572df;\n",
       "  color: #f1f1f1;\n",
       "}\n",
       "#T_b27d8_row2_col7, #T_b27d8_row3_col7, #T_b27d8_row4_col5, #T_b27d8_row4_col7, #T_b27d8_row7_col2, #T_b27d8_row7_col6 {\n",
       "  background-color: #445acc;\n",
       "  color: #f1f1f1;\n",
       "}\n",
       "#T_b27d8_row3_col0 {\n",
       "  background-color: #9ebeff;\n",
       "  color: #000000;\n",
       "}\n",
       "#T_b27d8_row3_col1 {\n",
       "  background-color: #6f92f3;\n",
       "  color: #f1f1f1;\n",
       "}\n",
       "#T_b27d8_row3_col2, #T_b27d8_row7_col5 {\n",
       "  background-color: #3d50c3;\n",
       "  color: #f1f1f1;\n",
       "}\n",
       "#T_b27d8_row3_col4 {\n",
       "  background-color: #a3c2fe;\n",
       "  color: #000000;\n",
       "}\n",
       "#T_b27d8_row4_col2 {\n",
       "  background-color: #5977e3;\n",
       "  color: #f1f1f1;\n",
       "}\n",
       "#T_b27d8_row4_col3 {\n",
       "  background-color: #7da0f9;\n",
       "  color: #f1f1f1;\n",
       "}\n",
       "#T_b27d8_row5_col0 {\n",
       "  background-color: #7597f6;\n",
       "  color: #f1f1f1;\n",
       "}\n",
       "#T_b27d8_row5_col1 {\n",
       "  background-color: #4a63d3;\n",
       "  color: #f1f1f1;\n",
       "}\n",
       "#T_b27d8_row5_col2 {\n",
       "  background-color: #5470de;\n",
       "  color: #f1f1f1;\n",
       "}\n",
       "#T_b27d8_row5_col6, #T_b27d8_row6_col1, #T_b27d8_row6_col5 {\n",
       "  background-color: #4b64d5;\n",
       "  color: #f1f1f1;\n",
       "}\n",
       "#T_b27d8_row7_col0 {\n",
       "  background-color: #6c8ff1;\n",
       "  color: #f1f1f1;\n",
       "}\n",
       "#T_b27d8_row7_col1 {\n",
       "  background-color: #4055c8;\n",
       "  color: #f1f1f1;\n",
       "}\n",
       "#T_b27d8_row7_col4 {\n",
       "  background-color: #7295f4;\n",
       "  color: #f1f1f1;\n",
       "}\n",
       "</style>\n",
       "<table id=\"T_b27d8_\">\n",
       "  <thead>\n",
       "    <tr>\n",
       "      <th class=\"blank level0\" >&nbsp;</th>\n",
       "      <th class=\"col_heading level0 col0\" >Unnamed: 0.1</th>\n",
       "      <th class=\"col_heading level0 col1\" >Ticket_Refunded</th>\n",
       "      <th class=\"col_heading level0 col2\" >Bag_Weight</th>\n",
       "      <th class=\"col_heading level0 col3\" >Bag_Pieces</th>\n",
       "      <th class=\"col_heading level0 col4\" >Fare</th>\n",
       "      <th class=\"col_heading level0 col5\" >Days_to_Depart</th>\n",
       "      <th class=\"col_heading level0 col6\" >hrs_to_Depart</th>\n",
       "      <th class=\"col_heading level0 col7\" >min_to_Depart</th>\n",
       "    </tr>\n",
       "  </thead>\n",
       "  <tbody>\n",
       "    <tr>\n",
       "      <th id=\"T_b27d8_level0_row0\" class=\"row_heading level0 row0\" >Unnamed: 0.1</th>\n",
       "      <td id=\"T_b27d8_row0_col0\" class=\"data row0 col0\" >1.000000</td>\n",
       "      <td id=\"T_b27d8_row0_col1\" class=\"data row0 col1\" >0.132618</td>\n",
       "      <td id=\"T_b27d8_row0_col2\" class=\"data row0 col2\" >0.016315</td>\n",
       "      <td id=\"T_b27d8_row0_col3\" class=\"data row0 col3\" >0.162609</td>\n",
       "      <td id=\"T_b27d8_row0_col4\" class=\"data row0 col4\" >-0.195119</td>\n",
       "      <td id=\"T_b27d8_row0_col5\" class=\"data row0 col5\" >0.021692</td>\n",
       "      <td id=\"T_b27d8_row0_col6\" class=\"data row0 col6\" >0.017204</td>\n",
       "      <td id=\"T_b27d8_row0_col7\" class=\"data row0 col7\" >-0.005901</td>\n",
       "    </tr>\n",
       "    <tr>\n",
       "      <th id=\"T_b27d8_level0_row1\" class=\"row_heading level0 row1\" >Ticket_Refunded</th>\n",
       "      <td id=\"T_b27d8_row1_col0\" class=\"data row1 col0\" >0.132618</td>\n",
       "      <td id=\"T_b27d8_row1_col1\" class=\"data row1 col1\" >1.000000</td>\n",
       "      <td id=\"T_b27d8_row1_col2\" class=\"data row1 col2\" >-0.017045</td>\n",
       "      <td id=\"T_b27d8_row1_col3\" class=\"data row1 col3\" >0.127554</td>\n",
       "      <td id=\"T_b27d8_row1_col4\" class=\"data row1 col4\" >-0.046713</td>\n",
       "      <td id=\"T_b27d8_row1_col5\" class=\"data row1 col5\" >0.006717</td>\n",
       "      <td id=\"T_b27d8_row1_col6\" class=\"data row1 col6\" >0.011222</td>\n",
       "      <td id=\"T_b27d8_row1_col7\" class=\"data row1 col7\" >-0.023462</td>\n",
       "    </tr>\n",
       "    <tr>\n",
       "      <th id=\"T_b27d8_level0_row2\" class=\"row_heading level0 row2\" >Bag_Weight</th>\n",
       "      <td id=\"T_b27d8_row2_col0\" class=\"data row2 col0\" >0.016315</td>\n",
       "      <td id=\"T_b27d8_row2_col1\" class=\"data row2 col1\" >-0.017045</td>\n",
       "      <td id=\"T_b27d8_row2_col2\" class=\"data row2 col2\" >1.000000</td>\n",
       "      <td id=\"T_b27d8_row2_col3\" class=\"data row2 col3\" >-0.014213</td>\n",
       "      <td id=\"T_b27d8_row2_col4\" class=\"data row2 col4\" >0.075900</td>\n",
       "      <td id=\"T_b27d8_row2_col5\" class=\"data row2 col5\" >0.061983</td>\n",
       "      <td id=\"T_b27d8_row2_col6\" class=\"data row2 col6\" >-0.024824</td>\n",
       "      <td id=\"T_b27d8_row2_col7\" class=\"data row2 col7\" >0.009684</td>\n",
       "    </tr>\n",
       "    <tr>\n",
       "      <th id=\"T_b27d8_level0_row3\" class=\"row_heading level0 row3\" >Bag_Pieces</th>\n",
       "      <td id=\"T_b27d8_row3_col0\" class=\"data row3 col0\" >0.162609</td>\n",
       "      <td id=\"T_b27d8_row3_col1\" class=\"data row3 col1\" >0.127554</td>\n",
       "      <td id=\"T_b27d8_row3_col2\" class=\"data row3 col2\" >-0.014213</td>\n",
       "      <td id=\"T_b27d8_row3_col3\" class=\"data row3 col3\" >1.000000</td>\n",
       "      <td id=\"T_b27d8_row3_col4\" class=\"data row3 col4\" >0.181846</td>\n",
       "      <td id=\"T_b27d8_row3_col5\" class=\"data row3 col5\" >-0.029516</td>\n",
       "      <td id=\"T_b27d8_row3_col6\" class=\"data row3 col6\" >-0.030278</td>\n",
       "      <td id=\"T_b27d8_row3_col7\" class=\"data row3 col7\" >0.010631</td>\n",
       "    </tr>\n",
       "    <tr>\n",
       "      <th id=\"T_b27d8_level0_row4\" class=\"row_heading level0 row4\" >Fare</th>\n",
       "      <td id=\"T_b27d8_row4_col0\" class=\"data row4 col0\" >-0.195119</td>\n",
       "      <td id=\"T_b27d8_row4_col1\" class=\"data row4 col1\" >-0.046713</td>\n",
       "      <td id=\"T_b27d8_row4_col2\" class=\"data row4 col2\" >0.075900</td>\n",
       "      <td id=\"T_b27d8_row4_col3\" class=\"data row4 col3\" >0.181846</td>\n",
       "      <td id=\"T_b27d8_row4_col4\" class=\"data row4 col4\" >1.000000</td>\n",
       "      <td id=\"T_b27d8_row4_col5\" class=\"data row4 col5\" >0.006028</td>\n",
       "      <td id=\"T_b27d8_row4_col6\" class=\"data row4 col6\" >0.006513</td>\n",
       "      <td id=\"T_b27d8_row4_col7\" class=\"data row4 col7\" >0.011704</td>\n",
       "    </tr>\n",
       "    <tr>\n",
       "      <th id=\"T_b27d8_level0_row5\" class=\"row_heading level0 row5\" >Days_to_Depart</th>\n",
       "      <td id=\"T_b27d8_row5_col0\" class=\"data row5 col0\" >0.021692</td>\n",
       "      <td id=\"T_b27d8_row5_col1\" class=\"data row5 col1\" >0.006717</td>\n",
       "      <td id=\"T_b27d8_row5_col2\" class=\"data row5 col2\" >0.061983</td>\n",
       "      <td id=\"T_b27d8_row5_col3\" class=\"data row5 col3\" >-0.029516</td>\n",
       "      <td id=\"T_b27d8_row5_col4\" class=\"data row5 col4\" >0.006028</td>\n",
       "      <td id=\"T_b27d8_row5_col5\" class=\"data row5 col5\" >1.000000</td>\n",
       "      <td id=\"T_b27d8_row5_col6\" class=\"data row5 col6\" >0.029892</td>\n",
       "      <td id=\"T_b27d8_row5_col7\" class=\"data row5 col7\" >-0.018803</td>\n",
       "    </tr>\n",
       "    <tr>\n",
       "      <th id=\"T_b27d8_level0_row6\" class=\"row_heading level0 row6\" >hrs_to_Depart</th>\n",
       "      <td id=\"T_b27d8_row6_col0\" class=\"data row6 col0\" >0.017204</td>\n",
       "      <td id=\"T_b27d8_row6_col1\" class=\"data row6 col1\" >0.011222</td>\n",
       "      <td id=\"T_b27d8_row6_col2\" class=\"data row6 col2\" >-0.024824</td>\n",
       "      <td id=\"T_b27d8_row6_col3\" class=\"data row6 col3\" >-0.030278</td>\n",
       "      <td id=\"T_b27d8_row6_col4\" class=\"data row6 col4\" >0.006513</td>\n",
       "      <td id=\"T_b27d8_row6_col5\" class=\"data row6 col5\" >0.029892</td>\n",
       "      <td id=\"T_b27d8_row6_col6\" class=\"data row6 col6\" >1.000000</td>\n",
       "      <td id=\"T_b27d8_row6_col7\" class=\"data row6 col7\" >0.004874</td>\n",
       "    </tr>\n",
       "    <tr>\n",
       "      <th id=\"T_b27d8_level0_row7\" class=\"row_heading level0 row7\" >min_to_Depart</th>\n",
       "      <td id=\"T_b27d8_row7_col0\" class=\"data row7 col0\" >-0.005901</td>\n",
       "      <td id=\"T_b27d8_row7_col1\" class=\"data row7 col1\" >-0.023462</td>\n",
       "      <td id=\"T_b27d8_row7_col2\" class=\"data row7 col2\" >0.009684</td>\n",
       "      <td id=\"T_b27d8_row7_col3\" class=\"data row7 col3\" >0.010631</td>\n",
       "      <td id=\"T_b27d8_row7_col4\" class=\"data row7 col4\" >0.011704</td>\n",
       "      <td id=\"T_b27d8_row7_col5\" class=\"data row7 col5\" >-0.018803</td>\n",
       "      <td id=\"T_b27d8_row7_col6\" class=\"data row7 col6\" >0.004874</td>\n",
       "      <td id=\"T_b27d8_row7_col7\" class=\"data row7 col7\" >1.000000</td>\n",
       "    </tr>\n",
       "  </tbody>\n",
       "</table>\n"
      ],
      "text/plain": [
       "<pandas.io.formats.style.Styler at 0x129df64f0>"
      ]
     },
     "execution_count": 52,
     "metadata": {},
     "output_type": "execute_result"
    }
   ],
   "source": [
    "corr= df.corr(method='pearson') # Correlation range from 1 to -1\n",
    "corr.style.background_gradient(cmap='coolwarm')"
   ]
  },
  {
   "cell_type": "code",
   "execution_count": 53,
   "metadata": {},
   "outputs": [
    {
     "name": "stderr",
     "output_type": "stream",
     "text": [
      "/Users/h/opt/anaconda3/lib/python3.9/site-packages/seaborn/_decorators.py:36: FutureWarning: Pass the following variables as keyword args: x, y. From version 0.12, the only valid positional argument will be `data`, and passing other arguments without an explicit keyword will result in an error or misinterpretation.\n",
      "  warnings.warn(\n"
     ]
    },
    {
     "data": {
      "text/plain": [
       "<AxesSubplot:xlabel='Fare', ylabel='Bag_Weight'>"
      ]
     },
     "execution_count": 53,
     "metadata": {},
     "output_type": "execute_result"
    },
    {
     "data": {
      "image/png": "[encoded data removed]",
      "text/plain": [
       "<Figure size 432x288 with 1 Axes>"
      ]
     },
     "metadata": {
      "needs_background": "light"
     },
     "output_type": "display_data"
    }
   ],
   "source": [
    "# Regression plot of the Fare with Bag Weight\n",
    "\n",
    "sns.regplot(df['Fare'], df['Bag_Weight'], data=df)"
   ]
  },
  {
   "cell_type": "code",
   "execution_count": 54,
   "metadata": {},
   "outputs": [
    {
     "name": "stderr",
     "output_type": "stream",
     "text": [
      "/Users/h/opt/anaconda3/lib/python3.9/site-packages/seaborn/_decorators.py:36: FutureWarning: Pass the following variables as keyword args: x, y. From version 0.12, the only valid positional argument will be `data`, and passing other arguments without an explicit keyword will result in an error or misinterpretation.\n",
      "  warnings.warn(\n"
     ]
    },
    {
     "data": {
      "text/plain": [
       "<AxesSubplot:xlabel='Fare', ylabel='Days_to_Depart'>"
      ]
     },
     "execution_count": 54,
     "metadata": {},
     "output_type": "execute_result"
    },
    {
     "data": {
      "image/png": "[encoded data removed]",
      "text/plain": [
       "<Figure size 432x288 with 1 Axes>"
      ]
     },
     "metadata": {
      "needs_background": "light"
     },
     "output_type": "display_data"
    }
   ],
   "source": [
    "# Regression plot of the Fare with Bag Weight\n",
    "\n",
    "sns.regplot(df['Fare'], df['Days_to_Depart'], data=df)"
   ]
  },
  {
   "cell_type": "code",
   "execution_count": 55,
   "metadata": {},
   "outputs": [
    {
     "name": "stderr",
     "output_type": "stream",
     "text": [
      "/Users/h/opt/anaconda3/lib/python3.9/site-packages/seaborn/_decorators.py:36: FutureWarning: Pass the following variables as keyword args: x, y. From version 0.12, the only valid positional argument will be `data`, and passing other arguments without an explicit keyword will result in an error or misinterpretation.\n",
      "  warnings.warn(\n"
     ]
    },
    {
     "data": {
      "text/plain": [
       "<AxesSubplot:xlabel='Fare', ylabel='Bag_Pieces'>"
      ]
     },
     "execution_count": 55,
     "metadata": {},
     "output_type": "execute_result"
    },
    {
     "data": {
      "image/png": "[encoded data removed]",
      "text/plain": [
       "<Figure size 432x288 with 1 Axes>"
      ]
     },
     "metadata": {
      "needs_background": "light"
     },
     "output_type": "display_data"
    }
   ],
   "source": [
    "# Regression plot of the Fare with Bag Weight\n",
    "\n",
    "sns.regplot(df['Fare'], df['Bag_Pieces'], data=df)"
   ]
  },
  {
   "cell_type": "markdown",
   "metadata": {},
   "source": [
    "**From the above graphs it shows that Fare have slight relation with other variables including Days_to_Depart, Bag_Weight, Bag_Pieces**"
   ]
  },
  {
   "cell_type": "code",
   "execution_count": 56,
   "metadata": {},
   "outputs": [
    {
     "data": {
      "text/plain": [
       "<AxesSubplot:xlabel='Airline', ylabel='Fare'>"
      ]
     },
     "execution_count": 56,
     "metadata": {},
     "output_type": "execute_result"
    },
    {
     "data": {
      "image/png": "[encoded data removed]",
      "text/plain": [
       "<Figure size 432x288 with 1 Axes>"
      ]
     },
     "metadata": {
      "needs_background": "light"
     },
     "output_type": "display_data"
    }
   ],
   "source": [
    "sns.boxplot(data=df , x=\"Airline\",y='Fare')"
   ]
  },
  {
   "cell_type": "markdown",
   "metadata": {},
   "source": [
    "**From the above boxplot it shows that Omega has low fare as well as starting from low fare price|**"
   ]
  },
  {
   "cell_type": "code",
   "execution_count": 57,
   "metadata": {},
   "outputs": [
    {
     "data": {
      "text/plain": [
       "alpha    1330\n",
       "gamma    1011\n",
       "beta      625\n",
       "omega     102\n",
       "Name: Airline, dtype: int64"
      ]
     },
     "execution_count": 57,
     "metadata": {},
     "output_type": "execute_result"
    }
   ],
   "source": [
    "df['Airline'].value_counts()"
   ]
  },
  {
   "cell_type": "markdown",
   "metadata": {},
   "source": [
    "**Here it shows Omega got very low flights as compared to others**"
   ]
  },
  {
   "cell_type": "code",
   "execution_count": 58,
   "metadata": {},
   "outputs": [
    {
     "data": {
      "text/plain": [
       "<AxesSubplot:xlabel='Airline', ylabel='Days_to_Depart'>"
      ]
     },
     "execution_count": 58,
     "metadata": {},
     "output_type": "execute_result"
    },
    {
     "data": {
      "image/png": "[encoded data removed]",
      "text/plain": [
       "<Figure size 432x288 with 1 Axes>"
      ]
     },
     "metadata": {
      "needs_background": "light"
     },
     "output_type": "display_data"
    }
   ],
   "source": [
    "sns.boxplot(data=df,x='Airline',y='Days_to_Depart')"
   ]
  },
  {
   "cell_type": "markdown",
   "metadata": {},
   "source": [
    "### Applying Machine_Learning Models"
   ]
  },
  {
   "cell_type": "markdown",
   "metadata": {},
   "source": [
    "#### Step 1. Encoding of the process\n"
   ]
  },
  {
   "cell_type": "code",
   "execution_count": 59,
   "metadata": {},
   "outputs": [],
   "source": [
    "# Importing Encoder\n",
    "from sklearn.preprocessing import LabelEncoder as le "
   ]
  },
  {
   "cell_type": "code",
   "execution_count": 60,
   "metadata": {},
   "outputs": [],
   "source": [
    "df['Airline'] = le().fit_transform(df['Airline'])\n",
    "df['Ticket_Refunded'] = le().fit_transform(df['Ticket_Refunded'])\n",
    "df1['Airline'] = le().fit_transform(df1['Airline'])\n",
    "df1['Ticket_Refunded'] = le().fit_transform(df1['Ticket_Refunded'])"
   ]
  },
  {
   "cell_type": "markdown",
   "metadata": {},
   "source": [
    "#### Step 2. Splittin into X and Y"
   ]
  },
  {
   "cell_type": "code",
   "execution_count": 61,
   "metadata": {},
   "outputs": [],
   "source": [
    "X= df[['Airline','Ticket_Refunded','Bag_Weight','Bag_Pieces','Days_to_Depart']]\n",
    "y= df['Fare']"
   ]
  },
  {
   "cell_type": "code",
   "execution_count": 62,
   "metadata": {},
   "outputs": [
    {
     "data": {
      "text/plain": [
       "(3068, 5)"
      ]
     },
     "execution_count": 62,
     "metadata": {},
     "output_type": "execute_result"
    }
   ],
   "source": [
    "X.shape"
   ]
  },
  {
   "cell_type": "code",
   "execution_count": 63,
   "metadata": {},
   "outputs": [],
   "source": [
    "df1  = df1.sample(1479)"
   ]
  },
  {
   "cell_type": "code",
   "execution_count": 64,
   "metadata": {},
   "outputs": [
    {
     "data": {
      "text/plain": [
       "(1479, 7)"
      ]
     },
     "execution_count": 64,
     "metadata": {},
     "output_type": "execute_result"
    }
   ],
   "source": [
    "df1.shape"
   ]
  },
  {
   "cell_type": "code",
   "execution_count": 65,
   "metadata": {},
   "outputs": [
    {
     "data": {
      "text/html": [
       "<div>\n",
       "<style scoped>\n",
       "    .dataframe tbody tr th:only-of-type {\n",
       "        vertical-align: middle;\n",
       "    }\n",
       "\n",
       "    .dataframe tbody tr th {\n",
       "        vertical-align: top;\n",
       "    }\n",
       "\n",
       "    .dataframe thead th {\n",
       "        text-align: right;\n",
       "    }\n",
       "</style>\n",
       "<table border=\"1\" class=\"dataframe\">\n",
       "  <thead>\n",
       "    <tr style=\"text-align: right;\">\n",
       "      <th></th>\n",
       "      <th>Airline</th>\n",
       "      <th>Ticket_Refunded</th>\n",
       "      <th>Bag_Weight</th>\n",
       "      <th>Bag_Pieces</th>\n",
       "      <th>Days_to_Depart</th>\n",
       "      <th>hrs_to_Depart</th>\n",
       "      <th>min_to_Depart</th>\n",
       "    </tr>\n",
       "  </thead>\n",
       "  <tbody>\n",
       "    <tr>\n",
       "      <th>2070</th>\n",
       "      <td>3</td>\n",
       "      <td>0</td>\n",
       "      <td>20</td>\n",
       "      <td>1</td>\n",
       "      <td>9</td>\n",
       "      <td>3</td>\n",
       "      <td>35</td>\n",
       "    </tr>\n",
       "    <tr>\n",
       "      <th>1594</th>\n",
       "      <td>3</td>\n",
       "      <td>0</td>\n",
       "      <td>20</td>\n",
       "      <td>1</td>\n",
       "      <td>9</td>\n",
       "      <td>2</td>\n",
       "      <td>59</td>\n",
       "    </tr>\n",
       "    <tr>\n",
       "      <th>4219</th>\n",
       "      <td>0</td>\n",
       "      <td>0</td>\n",
       "      <td>15</td>\n",
       "      <td>1</td>\n",
       "      <td>27</td>\n",
       "      <td>6</td>\n",
       "      <td>22</td>\n",
       "    </tr>\n",
       "    <tr>\n",
       "      <th>2344</th>\n",
       "      <td>0</td>\n",
       "      <td>0</td>\n",
       "      <td>15</td>\n",
       "      <td>1</td>\n",
       "      <td>5</td>\n",
       "      <td>21</td>\n",
       "      <td>53</td>\n",
       "    </tr>\n",
       "    <tr>\n",
       "      <th>2385</th>\n",
       "      <td>0</td>\n",
       "      <td>0</td>\n",
       "      <td>20</td>\n",
       "      <td>1</td>\n",
       "      <td>38</td>\n",
       "      <td>1</td>\n",
       "      <td>22</td>\n",
       "    </tr>\n",
       "  </tbody>\n",
       "</table>\n",
       "</div>"
      ],
      "text/plain": [
       "      Airline  Ticket_Refunded  Bag_Weight  Bag_Pieces  Days_to_Depart  \\\n",
       "2070        3                0          20           1               9   \n",
       "1594        3                0          20           1               9   \n",
       "4219        0                0          15           1              27   \n",
       "2344        0                0          15           1               5   \n",
       "2385        0                0          20           1              38   \n",
       "\n",
       "      hrs_to_Depart  min_to_Depart  \n",
       "2070              3             35  \n",
       "1594              2             59  \n",
       "4219              6             22  \n",
       "2344             21             53  \n",
       "2385              1             22  "
      ]
     },
     "execution_count": 65,
     "metadata": {},
     "output_type": "execute_result"
    }
   ],
   "source": [
    "df1.head()"
   ]
  },
  {
   "cell_type": "code",
   "execution_count": 66,
   "metadata": {},
   "outputs": [],
   "source": [
    "df1.drop(['hrs_to_Depart', 'min_to_Depart'],axis=1,inplace=True)"
   ]
  },
  {
   "cell_type": "markdown",
   "metadata": {},
   "source": [
    "#### Step 3. Machine Learning Modeling"
   ]
  },
  {
   "cell_type": "code",
   "execution_count": 67,
   "metadata": {},
   "outputs": [],
   "source": [
    "# Importing Models\n",
    "from sklearn.linear_model import LinearRegression\n",
    "from sklearn.tree import DecisionTreeRegressor\n",
    "from sklearn.neighbors import KNeighborsRegressor\n",
    "from sklearn.svm import SVR\n",
    "from sklearn.model_selection import train_test_split\n",
    "from sklearn.metrics import r2_score,mean_squared_error,mean_absolute_error\n",
    "lr = LinearRegression()\n",
    "dt = DecisionTreeRegressor()\n",
    "knn = KNeighborsRegressor()\n",
    "svr = SVR()"
   ]
  },
  {
   "cell_type": "markdown",
   "metadata": {},
   "source": [
    "#### Step 4. Model Looping on basis of scores"
   ]
  },
  {
   "cell_type": "code",
   "execution_count": 68,
   "metadata": {},
   "outputs": [
    {
     "name": "stdout",
     "output_type": "stream",
     "text": [
      "SVR()\n",
      "R2 Score:  0.13727224458413556\n",
      "Mean Absolute Error:  0.10833477908797891\n",
      "Mean Squared Error:  0.017018956105207254\n",
      "Root Mean Square Error:  0.13045672119598611\n"
     ]
    }
   ],
   "source": [
    "X_train,X_test,y_train,y_test =train_test_split(X, y, test_size=0.5,random_state=42) # Random sample of 42 from dataset\n",
    "for i in [lr,dt,knn,svr]: # Reading all Models\n",
    "       i.fit(X_train,y_train) # Fitting the Models\n",
    "       pred = i.predict(X_test) # Predicting the values\n",
    "       test_score = r2_score(y_test, pred) # test score\n",
    "       train_score = r2_score(y_train, i.predict(X_train)) # train score\n",
    "\n",
    "\n",
    "if abs(train_score-test_score) <= 0.1:\n",
    "    print(i)\n",
    "    print('R2 Score: ', r2_score(y_test,pred))\n",
    "    print('Mean Absolute Error: ', mean_absolute_error(y_test,pred))\n",
    "    print('Mean Squared Error: ', mean_squared_error(y_test,pred))\n",
    "    print('Root Mean Square Error: ', mean_squared_error(y_test,pred,squared=False))"
   ]
  },
  {
   "cell_type": "code",
   "execution_count": 69,
   "metadata": {},
   "outputs": [
    {
     "data": {
      "text/plain": [
       "(3068,)"
      ]
     },
     "execution_count": 69,
     "metadata": {},
     "output_type": "execute_result"
    }
   ],
   "source": [
    "y.shape"
   ]
  },
  {
   "cell_type": "code",
   "execution_count": 73,
   "metadata": {},
   "outputs": [],
   "source": [
    "y=y.sample(1479)"
   ]
  },
  {
   "cell_type": "code",
   "execution_count": 70,
   "metadata": {},
   "outputs": [
    {
     "data": {
      "text/plain": [
       "(3068, 5)"
      ]
     },
     "execution_count": 70,
     "metadata": {},
     "output_type": "execute_result"
    }
   ],
   "source": [
    "X.shape"
   ]
  },
  {
   "cell_type": "code",
   "execution_count": 74,
   "metadata": {},
   "outputs": [],
   "source": [
    "X=X.sample(1479)"
   ]
  },
  {
   "cell_type": "code",
   "execution_count": 72,
   "metadata": {},
   "outputs": [
    {
     "data": {
      "text/plain": [
       "(1479, 5)"
      ]
     },
     "execution_count": 72,
     "metadata": {},
     "output_type": "execute_result"
    }
   ],
   "source": [
    "df1.shape"
   ]
  },
  {
   "cell_type": "markdown",
   "metadata": {},
   "source": [
    "#### Step 5. Prediction of model using Linear Regression"
   ]
  },
  {
   "cell_type": "code",
   "execution_count": 75,
   "metadata": {},
   "outputs": [],
   "source": [
    "lr = LinearRegression().fit(X,y) # Fitting Original X and y using Regression model\n",
    "pred = lr.predict(df1)\n",
    "\n",
    "# To save the predicted model using the res to save as csv line easy for reading the data\n",
    "res = pd.DataFrame(pred)\n",
    "res.index = X.index # it's important for comparison\n",
    "res.columns = ['Prediction']\n",
    "res.to_csv('Prediction_results.csv')"
   ]
  },
  {
   "cell_type": "code",
   "execution_count": 76,
   "metadata": {},
   "outputs": [
    {
     "data": {
      "text/html": [
       "<div>\n",
       "<style scoped>\n",
       "    .dataframe tbody tr th:only-of-type {\n",
       "        vertical-align: middle;\n",
       "    }\n",
       "\n",
       "    .dataframe tbody tr th {\n",
       "        vertical-align: top;\n",
       "    }\n",
       "\n",
       "    .dataframe thead th {\n",
       "        text-align: right;\n",
       "    }\n",
       "</style>\n",
       "<table border=\"1\" class=\"dataframe\">\n",
       "  <thead>\n",
       "    <tr style=\"text-align: right;\">\n",
       "      <th></th>\n",
       "      <th>Unnamed: 0</th>\n",
       "      <th>Prediction</th>\n",
       "    </tr>\n",
       "  </thead>\n",
       "  <tbody>\n",
       "    <tr>\n",
       "      <th>0</th>\n",
       "      <td>2440</td>\n",
       "      <td>8.936505</td>\n",
       "    </tr>\n",
       "    <tr>\n",
       "      <th>1</th>\n",
       "      <td>3026</td>\n",
       "      <td>8.936505</td>\n",
       "    </tr>\n",
       "    <tr>\n",
       "      <th>2</th>\n",
       "      <td>1750</td>\n",
       "      <td>8.956011</td>\n",
       "    </tr>\n",
       "    <tr>\n",
       "      <th>3</th>\n",
       "      <td>2855</td>\n",
       "      <td>8.944861</td>\n",
       "    </tr>\n",
       "    <tr>\n",
       "      <th>4</th>\n",
       "      <td>1860</td>\n",
       "      <td>8.963445</td>\n",
       "    </tr>\n",
       "  </tbody>\n",
       "</table>\n",
       "</div>"
      ],
      "text/plain": [
       "   Unnamed: 0  Prediction\n",
       "0        2440    8.936505\n",
       "1        3026    8.936505\n",
       "2        1750    8.956011\n",
       "3        2855    8.944861\n",
       "4        1860    8.963445"
      ]
     },
     "execution_count": 76,
     "metadata": {},
     "output_type": "execute_result"
    }
   ],
   "source": [
    "# Loading the dataset predicted file \n",
    "df3 = pd.read_csv('Prediction_results.csv') # Reading Predicted File in the format of csv\n",
    "df3.head()"
   ]
  },
  {
   "cell_type": "code",
   "execution_count": 77,
   "metadata": {},
   "outputs": [],
   "source": [
    "# This way converting them back into original values expontials function\n",
    "\n",
    "df3['Prediction']=np.exp(df3['Prediction']) "
   ]
  },
  {
   "cell_type": "code",
   "execution_count": 78,
   "metadata": {},
   "outputs": [
    {
     "data": {
      "text/html": [
       "<div>\n",
       "<style scoped>\n",
       "    .dataframe tbody tr th:only-of-type {\n",
       "        vertical-align: middle;\n",
       "    }\n",
       "\n",
       "    .dataframe tbody tr th {\n",
       "        vertical-align: top;\n",
       "    }\n",
       "\n",
       "    .dataframe thead th {\n",
       "        text-align: right;\n",
       "    }\n",
       "</style>\n",
       "<table border=\"1\" class=\"dataframe\">\n",
       "  <thead>\n",
       "    <tr style=\"text-align: right;\">\n",
       "      <th></th>\n",
       "      <th>Unnamed: 0</th>\n",
       "      <th>Prediction</th>\n",
       "    </tr>\n",
       "  </thead>\n",
       "  <tbody>\n",
       "    <tr>\n",
       "      <th>0</th>\n",
       "      <td>2440</td>\n",
       "      <td>7604.571758</td>\n",
       "    </tr>\n",
       "    <tr>\n",
       "      <th>1</th>\n",
       "      <td>3026</td>\n",
       "      <td>7604.571758</td>\n",
       "    </tr>\n",
       "    <tr>\n",
       "      <th>2</th>\n",
       "      <td>1750</td>\n",
       "      <td>7754.365627</td>\n",
       "    </tr>\n",
       "    <tr>\n",
       "      <th>3</th>\n",
       "      <td>2855</td>\n",
       "      <td>7668.383339</td>\n",
       "    </tr>\n",
       "    <tr>\n",
       "      <th>4</th>\n",
       "      <td>1860</td>\n",
       "      <td>7812.223578</td>\n",
       "    </tr>\n",
       "  </tbody>\n",
       "</table>\n",
       "</div>"
      ],
      "text/plain": [
       "   Unnamed: 0   Prediction\n",
       "0        2440  7604.571758\n",
       "1        3026  7604.571758\n",
       "2        1750  7754.365627\n",
       "3        2855  7668.383339\n",
       "4        1860  7812.223578"
      ]
     },
     "execution_count": 78,
     "metadata": {},
     "output_type": "execute_result"
    }
   ],
   "source": [
    "df3.head()"
   ]
  },
  {
   "cell_type": "code",
   "execution_count": 79,
   "metadata": {},
   "outputs": [
    {
     "data": {
      "text/html": [
       "<div>\n",
       "<style scoped>\n",
       "    .dataframe tbody tr th:only-of-type {\n",
       "        vertical-align: middle;\n",
       "    }\n",
       "\n",
       "    .dataframe tbody tr th {\n",
       "        vertical-align: top;\n",
       "    }\n",
       "\n",
       "    .dataframe thead th {\n",
       "        text-align: right;\n",
       "    }\n",
       "</style>\n",
       "<table border=\"1\" class=\"dataframe\">\n",
       "  <thead>\n",
       "    <tr style=\"text-align: right;\">\n",
       "      <th></th>\n",
       "      <th>Unnamed: 0</th>\n",
       "      <th>Prediction</th>\n",
       "    </tr>\n",
       "  </thead>\n",
       "  <tbody>\n",
       "    <tr>\n",
       "      <th>0</th>\n",
       "      <td>2440</td>\n",
       "      <td>7604.571758</td>\n",
       "    </tr>\n",
       "    <tr>\n",
       "      <th>1</th>\n",
       "      <td>3026</td>\n",
       "      <td>7604.571758</td>\n",
       "    </tr>\n",
       "    <tr>\n",
       "      <th>2</th>\n",
       "      <td>1750</td>\n",
       "      <td>7754.365627</td>\n",
       "    </tr>\n",
       "    <tr>\n",
       "      <th>3</th>\n",
       "      <td>2855</td>\n",
       "      <td>7668.383339</td>\n",
       "    </tr>\n",
       "    <tr>\n",
       "      <th>4</th>\n",
       "      <td>1860</td>\n",
       "      <td>7812.223578</td>\n",
       "    </tr>\n",
       "  </tbody>\n",
       "</table>\n",
       "</div>"
      ],
      "text/plain": [
       "   Unnamed: 0   Prediction\n",
       "0        2440  7604.571758\n",
       "1        3026  7604.571758\n",
       "2        1750  7754.365627\n",
       "3        2855  7668.383339\n",
       "4        1860  7812.223578"
      ]
     },
     "execution_count": 79,
     "metadata": {},
     "output_type": "execute_result"
    }
   ],
   "source": [
    "# Without log predicted file converted \n",
    "df3.to_csv('Without_log_pred.csv')\n",
    "df3.head()"
   ]
  }
 ],
 "metadata": {
  "interpreter": {
   "hash": "e33fa98875e6cca4f1958e1e1029ff6b6820adf9cd610a373533cfa5fa50da16"
  },
  "kernelspec": {
   "display_name": "Python 3.9.7 ('base')",
   "language": "python",
   "name": "python3"
  },
  "language_info": {
   "codemirror_mode": {
    "name": "ipython",
    "version": 3
   },
   "file_extension": ".py",
   "mimetype": "text/x-python",
   "name": "python",
   "nbconvert_exporter": "python",
   "pygments_lexer": "ipython3",
   "version": "3.9.7"
  },
  "orig_nbformat": 4
 },
 "nbformat": 4,
 "nbformat_minor": 2
}
